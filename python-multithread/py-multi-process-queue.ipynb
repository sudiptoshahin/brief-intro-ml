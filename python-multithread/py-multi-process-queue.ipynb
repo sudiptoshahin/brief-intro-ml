{
 "cells": [
  {
   "cell_type": "code",
   "execution_count": 3,
   "metadata": {},
   "outputs": [],
   "source": [
    "import multiprocessing"
   ]
  },
  {
   "cell_type": "code",
   "execution_count": 10,
   "metadata": {},
   "outputs": [],
   "source": [
    "result = []\n",
    "\n",
    "# child process/ process 2\n",
    "def calc_square(nums, queue):\n",
    "    global result\n",
    "    for n in nums:\n",
    "        # result.append(n*n)\n",
    "        queue.put(n*n)\n",
    "\n",
    "    # print(f'Inside process2: {str(result)}')\n"
   ]
  },
  {
   "cell_type": "code",
   "execution_count": 12,
   "metadata": {},
   "outputs": [
    {
     "name": "stdout",
     "output_type": "stream",
     "text": [
      "4\n",
      "9\n",
      "25\n"
     ]
    }
   ],
   "source": [
    "# paren-process\n",
    "\n",
    "if __name__ == '__main__':\n",
    "    nums = [2, 3, 5]\n",
    "\n",
    "    # creating queue\n",
    "    qu = multiprocessing.Queue()\n",
    "    p = multiprocessing.Process(target=calc_square, args=(nums, qu))\n",
    "\n",
    "    p.start()\n",
    "    p.join()\n",
    "\n",
    "    # print(f'Outside process: {str(result)}')\n",
    "    while qu.empty() is False:\n",
    "        print(qu.get())\n",
    "\n"
   ]
  }
 ],
 "metadata": {
  "kernelspec": {
   "display_name": "myenv",
   "language": "python",
   "name": "python3"
  },
  "language_info": {
   "codemirror_mode": {
    "name": "ipython",
    "version": 3
   },
   "file_extension": ".py",
   "mimetype": "text/x-python",
   "name": "python",
   "nbconvert_exporter": "python",
   "pygments_lexer": "ipython3",
   "version": "3.9.7"
  }
 },
 "nbformat": 4,
 "nbformat_minor": 2
}
