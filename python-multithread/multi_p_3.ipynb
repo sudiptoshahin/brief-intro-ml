{
 "cells": [
  {
   "cell_type": "code",
   "execution_count": 2,
   "metadata": {},
   "outputs": [],
   "source": [
    "import multiprocessing\n",
    "import time\n",
    "# 2 task\n",
    "# 1 -> video read\n",
    "# 2 -> detect\n",
    "# ------ conditionally -----------\n",
    "# 3 -> deep sorting\n",
    "# 4 -> attribute detection"
   ]
  },
  {
   "cell_type": "markdown",
   "metadata": {},
   "source": [
    "only multiprocessing\n",
    "<br>pool\n",
    "Queue/Pipe"
   ]
  },
  {
   "cell_type": "code",
   "execution_count": null,
   "metadata": {},
   "outputs": [],
   "source": [
    "import multiprocessing\n",
    "\n",
    "def video_read(frames):\n",
    "    for frame in frames:\n",
    "        print('video read frame: ', frame)\n",
    "        return frame\n",
    "\n",
    "# detect is only for detection\n",
    "def detect(frame):\n",
    "    print('\\ndetect: ', frame)\n",
    "    return frame\n",
    "\n",
    "\n",
    "if __name__ == '__main__':\n",
    "\n",
    "    FRAME_COUNT = [1, 2, 3, 4, 5, 6, 7, 8, 9, 10]\n",
    "    FrameQueue = multiprocessing.Queue()\n",
    "\n",
    "    # p1 = multiprocessing.Process(target=video_read, args=(FRAME_COUNT, FrameQueue))\n",
    "    # p2 = multiprocessing.Process(target=detect, args=(FrameQueue, ))\n",
    "    \n",
    "    # p1.start()\n",
    "    # p2.start()\n",
    "    # p1.join()\n",
    "    with multiprocessing.Pool(processes=2) as pool:\n",
    "\n",
    "        # frame_no = pool.apply_async(video_read, args=(FRAME_COUNT, ))\n",
    "        # frame = frame_no.get()\n",
    "        # detection = pool.apply_async(detect, args=(frame, ))\n",
    "\n",
    "        # print(detection.get())\n",
    "        frame_no = pool.map(video_read, FRAME_COUNT)\n",
    "        detection = pool.map(detect, list(frame_no))\n",
    "\n",
    "        print(detection)\n",
    "\n",
    "    \n",
    "\n",
    "\n"
   ]
  },
  {
   "cell_type": "markdown",
   "metadata": {},
   "source": [
    "Simple"
   ]
  },
  {
   "cell_type": "code",
   "execution_count": null,
   "metadata": {},
   "outputs": [
    {
     "name": "stdout",
     "output_type": "stream",
     "text": [
      "hello\n"
     ]
    }
   ],
   "source": [
    "import multiprocessing\n",
    "\n",
    "def worker():\n",
    "    print('hello')\n",
    "\n",
    "\n",
    "if __name__ == '__main__':\n",
    "    p1 = multiprocessing.Process(target=worker)\n",
    "    p1.start()"
   ]
  },
  {
   "cell_type": "markdown",
   "metadata": {},
   "source": [
    "pass args"
   ]
  },
  {
   "cell_type": "code",
   "execution_count": 4,
   "metadata": {},
   "outputs": [
    {
     "name": "stdout",
     "output_type": "stream",
     "text": [
      "worker: 0\n",
      "worker: 1\n",
      "worker: 2\n",
      "worker: 3\n",
      "worker: 4\n"
     ]
    }
   ],
   "source": [
    "import multiprocessing\n",
    "\n",
    "def worker(num):\n",
    "    print(f'worker: {num}')\n",
    "\n",
    "if __name__ == '__main__':\n",
    "    for i in range(5):\n",
    "        p = multiprocessing.Process(target=worker, args=(i, ))\n",
    "        p.start()\n",
    "\n"
   ]
  },
  {
   "cell_type": "markdown",
   "metadata": {},
   "source": [
    "Sharing data between one process to another, the data needs to be first serialized in the source process, then copied to other and the deserialized into pythons object.\n",
    "\n",
    "<br>multiprocessing.shared_memory \n",
    "1. SharedMemory\n",
    "2. ShareableList"
   ]
  },
  {
   "cell_type": "code",
   "execution_count": 5,
   "metadata": {},
   "outputs": [
    {
     "name": "stdout",
     "output_type": "stream",
     "text": [
      "1024\n"
     ]
    }
   ],
   "source": [
    "from multiprocessing.shared_memory import SharedMemory\n",
    "\n",
    "\n",
    "sharedMemory = SharedMemory(create=True, size=1024)\n",
    "print(sharedMemory.size)\n",
    "\n",
    "\n"
   ]
  },
  {
   "cell_type": "markdown",
   "metadata": {},
   "source": [
    "Share using queue"
   ]
  },
  {
   "cell_type": "code",
   "execution_count": 6,
   "metadata": {},
   "outputs": [
    {
     "name": "stdout",
     "output_type": "stream",
     "text": [
      "0\n",
      "1\n",
      "2\n",
      "3\n",
      "4\n",
      "5\n",
      "6\n",
      "7\n",
      "8\n",
      "9\n"
     ]
    }
   ],
   "source": [
    "import multiprocessing\n",
    "\n",
    "def producer(queue):\n",
    "    for i in range(10):\n",
    "        queue.put(i)\n",
    "    queue.put(None)\n",
    "\n",
    "def consumer(queue):\n",
    "    while True:\n",
    "        item = queue.get()\n",
    "        if item is None:\n",
    "            break\n",
    "        print(item)\n",
    "\n",
    "\n",
    "if __name__ == '__main__':\n",
    "    qu = multiprocessing.Queue()\n",
    "    \n",
    "    p1 = multiprocessing.Process(target=producer, args=(qu, ))\n",
    "    p2 = multiprocessing.Process(target=consumer, args=(qu, ))\n",
    "\n",
    "    p1.start()\n",
    "    p2.start()\n",
    "\n",
    "    p1.join()\n",
    "    p2.join()\n",
    "\n",
    "\n",
    "\n"
   ]
  }
 ],
 "metadata": {
  "kernelspec": {
   "display_name": "dreamflow-new",
   "language": "python",
   "name": "python3"
  },
  "language_info": {
   "codemirror_mode": {
    "name": "ipython",
    "version": 3
   },
   "file_extension": ".py",
   "mimetype": "text/x-python",
   "name": "python",
   "nbconvert_exporter": "python",
   "pygments_lexer": "ipython3",
   "version": "3.9.18"
  }
 },
 "nbformat": 4,
 "nbformat_minor": 2
}
