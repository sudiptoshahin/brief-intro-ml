{
 "cells": [
  {
   "cell_type": "code",
   "execution_count": 5,
   "metadata": {},
   "outputs": [],
   "source": [
    "import time as t\n",
    "import threading"
   ]
  },
  {
   "cell_type": "code",
   "execution_count": 2,
   "metadata": {},
   "outputs": [],
   "source": [
    "def calc_sqr(nums):\n",
    "    print('Calculate square numbers:')\n",
    "    if isinstance(nums, list):\n",
    "        for n in nums:\n",
    "            t.sleep(0.2)\n",
    "            print('square: ', n*n)\n",
    "    else:\n",
    "        print('Hahahah')\n",
    "\n",
    "\n",
    "def calc_cube(nums):\n",
    "    print('calculate cube numbers: ')\n",
    "    if isinstance(nums, list):\n",
    "        for n in nums:\n",
    "            t.sleep(0.2)\n",
    "            print('cube: ', n*n*n)"
   ]
  },
  {
   "cell_type": "code",
   "execution_count": 8,
   "metadata": {},
   "outputs": [
    {
     "name": "stdout",
     "output_type": "stream",
     "text": [
      "Calculate square numbers:\n",
      "square:  4\n",
      "square:  9\n",
      "square:  16\n",
      "square:  25\n",
      "calculate cube numbers: \n",
      "cube:  8\n",
      "cube:  27\n",
      "cube:  64\n",
      "cube:  125\n",
      "Done in : 1.6031181812286377\n"
     ]
    }
   ],
   "source": [
    "arr = [2, 3, 4, 5]\n",
    "\n",
    "ex_t = t.time()\n",
    "calc_sqr(arr)\n",
    "calc_cube(arr)\n",
    "print(f'Done in : {t.time() - ex_t}')"
   ]
  },
  {
   "cell_type": "code",
   "execution_count": 9,
   "metadata": {},
   "outputs": [
    {
     "name": "stdout",
     "output_type": "stream",
     "text": [
      "Calculate square numbers:\n",
      "calculate cube numbers: \n",
      "square:  4\n",
      "cube:  8\n",
      "square: cube:  27\n",
      " 9\n",
      "cube:  64\n",
      "square:  16\n",
      "cube:  125\n",
      "square:  25\n",
      "Done in : 0.8029234409332275\n"
     ]
    }
   ],
   "source": [
    "\n",
    "ex_t = t.time()\n",
    "\n",
    "th1 = threading.Thread(target=calc_sqr, args=(arr, ))\n",
    "th2 = threading.Thread(target=calc_cube, args=(arr, ))\n",
    "\n",
    "th1.start()\n",
    "th2.start()\n",
    "\n",
    "th1.join()\n",
    "th2.join()\n",
    "\n",
    "print(f'Done in : {t.time() - ex_t}')"
   ]
  }
 ],
 "metadata": {
  "kernelspec": {
   "display_name": "myenv",
   "language": "python",
   "name": "python3"
  },
  "language_info": {
   "codemirror_mode": {
    "name": "ipython",
    "version": 3
   },
   "file_extension": ".py",
   "mimetype": "text/x-python",
   "name": "python",
   "nbconvert_exporter": "python",
   "pygments_lexer": "ipython3",
   "version": "3.9.7"
  }
 },
 "nbformat": 4,
 "nbformat_minor": 2
}
