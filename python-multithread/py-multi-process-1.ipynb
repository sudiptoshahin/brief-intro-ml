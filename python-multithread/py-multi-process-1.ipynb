{
 "cells": [
  {
   "cell_type": "code",
   "execution_count": 32,
   "metadata": {},
   "outputs": [
    {
     "name": "stdout",
     "output_type": "stream",
     "text": [
      "\n",
      "Square: 2\n",
      "\n",
      "Square: 6\n",
      "Cube: 2\n",
      "\n",
      "\n",
      "Square: 48\n",
      "Cube: 6\n",
      "\n",
      "\n",
      "Square: 432\n",
      "Cube: 48\n",
      "\n",
      "*********hello*********\n",
      "\n",
      "\n",
      "Cube: 432\n"
     ]
    }
   ],
   "source": [
    "import time\n",
    "import multiprocessing\n",
    "\n",
    "\n",
    "def calc_sqr(nums):\n",
    "    total = 1\n",
    "    for n in nums:\n",
    "        total = total * n\n",
    "        print(f'\\nSquare: {total}')\n",
    "\n",
    "\n",
    "def calc_cube(nums):\n",
    "    total = 1\n",
    "    for n in nums:\n",
    "        total = total * n\n",
    "        print(f'\\nCube: {total}')\n",
    "\n",
    "def print_hello():\n",
    "    print('\\n*********hello*********')\n",
    "\n",
    "\n",
    "\n",
    "#############main-execution################\n",
    "if __name__ == '__main__':\n",
    "    arr = [2, 3, 8, 9]\n",
    "    p1 = multiprocessing.Process(target=calc_sqr, args=(arr, ))\n",
    "    p2 = multiprocessing.Process(target=calc_cube, args=(arr, ))\n",
    "    p3 = multiprocessing.Process(target=print_hello, args=())\n",
    "\n",
    "    p1.start()\n",
    "    p2.start()\n",
    "    p3.start()\n",
    "\n",
    "    p1.join()\n",
    "    p2.join()\n",
    "    p3.join()"
   ]
  },
  {
   "cell_type": "code",
   "execution_count": 33,
   "metadata": {},
   "outputs": [
    {
     "name": "stdout",
     "output_type": "stream",
     "text": [
      "square: 4\n",
      "square: 9\n",
      "square: 16\n",
      "square: 36\n",
      "print within the process - result: [4, 9, 16, 36]\n",
      "result: []\n",
      "Done!\n"
     ]
    }
   ],
   "source": [
    "import time\n",
    "import multiprocessing\n",
    "\n",
    "square_result = []\n",
    "\n",
    "def calc_sqr(nums):\n",
    "    global square_result\n",
    "    for n in nums:\n",
    "        print('square: ' +str(n*n))\n",
    "        square_result.append(n*n)\n",
    "    print('print within the process - result: '+str(square_result))\n",
    "\n",
    "\n",
    "if __name__ == '__main__':\n",
    "    arr = [2, 3, 4, 6]\n",
    "    p1 = multiprocessing.Process(target=calc_sqr, args=(arr, ))\n",
    "    p1.start()\n",
    "    p1.join()\n",
    "\n",
    "    print('result: ' +str(square_result))\n",
    "    print('Done!')"
   ]
  }
 ],
 "metadata": {
  "kernelspec": {
   "display_name": "base",
   "language": "python",
   "name": "python3"
  },
  "language_info": {
   "codemirror_mode": {
    "name": "ipython",
    "version": 3
   },
   "file_extension": ".py",
   "mimetype": "text/x-python",
   "name": "python",
   "nbconvert_exporter": "python",
   "pygments_lexer": "ipython3",
   "version": "3.9.7"
  }
 },
 "nbformat": 4,
 "nbformat_minor": 2
}
