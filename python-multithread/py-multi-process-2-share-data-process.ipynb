{
 "cells": [
  {
   "cell_type": "code",
   "execution_count": 2,
   "metadata": {},
   "outputs": [],
   "source": [
    "import time\n",
    "import multiprocessing\n",
    "import threading"
   ]
  },
  {
   "cell_type": "code",
   "execution_count": 3,
   "metadata": {},
   "outputs": [
    {
     "name": "stdout",
     "output_type": "stream",
     "text": [
      "[4, 9, 25]\n",
      "3.141598\n"
     ]
    }
   ],
   "source": [
    "# child process / process 2\n",
    "def calc_square(nums, result, values):\n",
    "    values.value = 3.141598\n",
    "    for idx, n in enumerate(nums):\n",
    "        result[idx] = n*n\n",
    "\n",
    "\n",
    "\n",
    "# parent-process / process 1\n",
    "if __name__ == '__main__':\n",
    "    numbers = [2, 3, 5]\n",
    "    # create shared memory\n",
    "    # we can use shared memeory as an array or an value\n",
    "    # multiprocessing.Array('data_type', size)\n",
    "    result = multiprocessing.Array('i', 3)\n",
    "    # create shared value\n",
    "    vals = multiprocessing.Value('d', 0.0)\n",
    "    p = multiprocessing.Process(target=calc_square, args=(numbers, result, vals))\n",
    "    \n",
    "    p.start()\n",
    "    p.join()\n",
    "\n",
    "    print(result[:])\n",
    "    print(vals.value)\n",
    "\n"
   ]
  }
 ],
 "metadata": {
  "kernelspec": {
   "display_name": "base",
   "language": "python",
   "name": "python3"
  },
  "language_info": {
   "codemirror_mode": {
    "name": "ipython",
    "version": 3
   },
   "file_extension": ".py",
   "mimetype": "text/x-python",
   "name": "python",
   "nbconvert_exporter": "python",
   "pygments_lexer": "ipython3",
   "version": "3.9.7"
  }
 },
 "nbformat": 4,
 "nbformat_minor": 2
}
