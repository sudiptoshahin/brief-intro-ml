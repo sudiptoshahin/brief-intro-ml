{
 "cells": [
  {
   "cell_type": "code",
   "execution_count": 7,
   "id": "c60a2c56-0c71-4b5a-bbaa-03a10f7c7c7f",
   "metadata": {},
   "outputs": [
    {
     "name": "stdout",
     "output_type": "stream",
     "text": [
      "1.26.2\n"
     ]
    }
   ],
   "source": [
    "import numpy as np\n",
    "\n",
    "print(np.__version__)"
   ]
  },
  {
   "cell_type": "code",
   "execution_count": 10,
   "id": "a516faa4-e748-4ee4-94f3-4ed678454022",
   "metadata": {},
   "outputs": [
    {
     "name": "stdout",
     "output_type": "stream",
     "text": [
      "[[[1 2 3]\n",
      "  [4 5 6]]\n",
      "\n",
      " [[1 2 3]\n",
      "  [4 5 6]]]\n"
     ]
    }
   ],
   "source": [
    "arr = np.array(42)\n",
    "np.array([[1, 2, 3], [3, 4, 5]])\n",
    "arr = np.array([[[1, 2, 3], [4, 5, 6]], [[1, 2, 3], [4, 5, 6]]])\n",
    "print(arr)"
   ]
  },
  {
   "cell_type": "markdown",
   "id": "dd013e44-0374-45c2-8f34-9d8deca4e964",
   "metadata": {},
   "source": [
    "## np dimensions"
   ]
  },
  {
   "cell_type": "code",
   "execution_count": 30,
   "id": "594db886-b74b-45bd-8ecd-e237f13ed977",
   "metadata": {},
   "outputs": [
    {
     "name": "stdout",
     "output_type": "stream",
     "text": [
      "0\n",
      "1\n",
      "2\n",
      "3\n",
      "[[1 2]\n",
      " [3 4]]\n"
     ]
    }
   ],
   "source": [
    "a = np.array(43)\n",
    "b = np.array([1, 2, 3, 4])\n",
    "c = np.array([[1, 2], [4, 5]])\n",
    "d = np.array([[[1, 2, 3], [4, 5, 7]], [[9, 10, 11], [12, 13, 14]]])\n",
    "\n",
    "print(a.ndim)\n",
    "print(b.ndim)\n",
    "print(c.ndim)\n",
    "print(d.ndim)\n",
    "\n",
    "# create a array with 5 dimensions\n",
    "arr = np.array([1, 2, 3, 4], ndmin=5)\n",
    "\n",
    "arr1 = np.array([[1, 2], [3, 4], [5,6]])\n",
    "print(arr1[:2])"
   ]
  },
  {
   "cell_type": "markdown",
   "id": "bc6dc2bd-8eb5-4f8f-b26a-a43e11792bc4",
   "metadata": {},
   "source": [
    "## 3D array"
   ]
  },
  {
   "cell_type": "code",
   "execution_count": 40,
   "id": "ea13ec99-26e7-4c46-a5e8-a939df41c6e4",
   "metadata": {},
   "outputs": [
    {
     "name": "stdout",
     "output_type": "stream",
     "text": [
      "[[[ 1  2  3]\n",
      "  [ 4  5  6]]\n",
      "\n",
      " [[ 7  8  9]\n",
      "  [10 11 12]]]\n",
      "\n",
      "\n",
      "[[[1 2 3]\n",
      "  [4 5 6]]]\n"
     ]
    }
   ],
   "source": [
    "arr = np.array([[[1, 2, 3], [4, 5, 6]], [[7, 8, 9], [10, 11, 12]]])\n",
    "\n",
    "print(arr)\n",
    "# print(arr.ndim)\n",
    "print('\\n')\n",
    "print(arr[0:2:2])"
   ]
  },
  {
   "cell_type": "markdown",
   "id": "f03865c2-c6b1-4149-a350-b3701c87348e",
   "metadata": {},
   "source": [
    "### Numpy array slicing"
   ]
  },
  {
   "cell_type": "code",
   "execution_count": 46,
   "id": "24e28ce7-af56-4f95-b92c-98e29a9f2d94",
   "metadata": {},
   "outputs": [
    {
     "name": "stdout",
     "output_type": "stream",
     "text": [
      "[2 3 4 5]\n",
      "[1 2 3 4]\n",
      "[1 4]\n"
     ]
    }
   ],
   "source": [
    "arr = np.array([1, 2, 3, 4, 5, 6, 7])\n",
    "\n",
    "print(arr[1:5])\n",
    "print(arr[:4])\n",
    "\n",
    "# [start: end]\n",
    "# [start: end: step]\n",
    "# step\n",
    "print(arr[0: 5: 3])"
   ]
  },
  {
   "cell_type": "markdown",
   "id": "2a0735a1-ed45-4c47-afc5-5e67161db4ee",
   "metadata": {},
   "source": [
    "### Slicing 2D arrays"
   ]
  },
  {
   "cell_type": "code",
   "execution_count": 3,
   "id": "5e695490-8126-4f71-8597-80a9fa0c33f2",
   "metadata": {},
   "outputs": [
    {
     "name": "stdout",
     "output_type": "stream",
     "text": [
      "[[ 1  2  3  4  5]\n",
      " [ 6  7  8  9 10]]\n",
      "\n",
      "\n",
      "s [7 8 9] \n",
      "\n",
      "[ 5 10] \n",
      "\n",
      "[[2 3 4]\n",
      " [7 8 9]]\n"
     ]
    }
   ],
   "source": [
    "import numpy as np\n",
    "arr = np.array([[1, 2, 3, 4, 5], [6, 7, 8, 9, 10]])\n",
    "print(arr)\n",
    "print('\\n')\n",
    "\n",
    "res = arr[1, 1:4]\n",
    "# print('s', res, '\\n')\n",
    "\n",
    "res = arr[0:, 4]\n",
    "# print(res, '\\n')\n",
    "\n",
    "print(arr[0:2, 1:4])"
   ]
  },
  {
   "cell_type": "code",
   "execution_count": 142,
   "id": "3aeeb963-6436-415e-ae14-4d7257d6fea8",
   "metadata": {},
   "outputs": [
    {
     "name": "stdout",
     "output_type": "stream",
     "text": [
      "[[1 2]\n",
      " [3 4]\n",
      " [5 6]] \n",
      "\n",
      "(3, 1)\n"
     ]
    }
   ],
   "source": [
    "arr = np.array([\n",
    "    [1, 2],\n",
    "    [3, 4],\n",
    "    [5, 6]\n",
    "])\n",
    "\n",
    "print(arr, '\\n')\n",
    "\n",
    "# arr[[rows], [columns]]\n",
    "# arr[0:, 1:] for [col2] = 2, 4, 6\n",
    "\n",
    "col1 = arr[0:, :1]\n",
    "print(col1.shape)"
   ]
  },
  {
   "cell_type": "code",
   "execution_count": 162,
   "id": "020db5ae-d585-4f21-a2af-e4bafb02e2df",
   "metadata": {},
   "outputs": [
    {
     "name": "stdout",
     "output_type": "stream",
     "text": [
      "[[ 1  2  3]\n",
      " [ 4  5  6]\n",
      " [ 7  8  9]\n",
      " [10 11 12]] \n",
      "\n",
      "col1: \n",
      "[[ 1]\n",
      " [ 4]\n",
      " [ 7]\n",
      " [10]]\n",
      "col2: \n",
      "[[ 2]\n",
      " [ 5]\n",
      " [ 8]\n",
      " [11]]\n",
      "col3: \n",
      "[[ 3]\n",
      " [ 6]\n",
      " [ 9]\n",
      " [12]]\n",
      "\n",
      "\n",
      "row1: \n",
      "[1 2 3]\n",
      "row2: \n",
      "[4 5 6]\n",
      "row3: \n",
      "[7 8 9]\n",
      "row4: \n",
      "[10 11 12]\n"
     ]
    }
   ],
   "source": [
    "arr = np.array([\n",
    "    [1, 2, 3],\n",
    "    [4, 5, 6],\n",
    "    [7, 8, 9],\n",
    "    [10, 11, 12]\n",
    "])\n",
    "\n",
    "print(arr, '\\n')\n",
    "\n",
    "col1 = arr[0:, :1]\n",
    "col2 = arr[0:, 1:2]\n",
    "col3 = arr[0:, 2:3]\n",
    "\n",
    "row1 = arr[0]\n",
    "row2 = arr[1]\n",
    "row3 = arr[2]\n",
    "row4 = arr[3]\n",
    "\n",
    "print(f'col1: \\n{col1}')\n",
    "print(f'col2: \\n{col2}')\n",
    "print(f'col3: \\n{col3}')\n",
    "print('\\n')\n",
    "print(f'row1: \\n{row1}')\n",
    "print(f'row2: \\n{row2}')\n",
    "print(f'row3: \\n{row3}')\n",
    "print(f'row4: \\n{row4}')"
   ]
  },
  {
   "cell_type": "markdown",
   "id": "0d356524-b5df-43c9-8b51-d116e5863443",
   "metadata": {},
   "source": [
    "### Datatypes\n",
    "* i - integer\n",
    "* \n",
    "b - boolea\n",
    "* \n",
    "u - unsigned integ\n",
    "* f - float\n",
    "* c - complex float\n",
    "* m - timedelta\n",
    "* M - datetime\n",
    "* O - object\n",
    "* S - string\n",
    "* U - unicode string\n",
    "* V - fixed chunk of memory for other type (void)e ( void )"
   ]
  },
  {
   "cell_type": "markdown",
   "id": "5ae495c0-dcb9-43aa-a144-e31cb35c9995",
   "metadata": {},
   "source": [
    "narr = np.array([1, 2, 3], dtype='i4')\n",
    "starr = np.array([['apple', 'bananna', 'cherry']])\n",
    "\n",
    "print(narr.dtype)\n",
    "print(starr.dtype)\n",
    "\n",
    "# converting data to another\n",
    "floatArr = np.array([1.1, 2.001, 3.3321, 4.31231])\n",
    "# newarr = floatArr.astype('i')\n",
    "newarr = floatArr.astype(int)\n",
    "\n",
    "boolArr = np.array([1, 0, 3, 0, 0, 1, 0])\n",
    "newarr = boolArr.astype(bool)\n",
    "\n",
    "# copy array\n",
    "boolarrcopy = boolArr.copy()\n",
    "\n",
    "print(newarr)\n"
   ]
  },
  {
   "cell_type": "markdown",
   "id": "0b9bd2e3-ad49-493c-af3e-1bac8f6ddf87",
   "metadata": {},
   "source": [
    "### Shape / Reshape"
   ]
  },
  {
   "cell_type": "code",
   "execution_count": 190,
   "id": "e46e5083-1d8b-4160-b7c6-636285b40cbe",
   "metadata": {},
   "outputs": [
    {
     "name": "stdout",
     "output_type": "stream",
     "text": [
      "(3, 2)\n",
      "[[1 2 3]\n",
      " [4 5 6]]\n",
      "[[ 1  2  3]\n",
      " [ 4  5  6]\n",
      " [ 7  8  9]\n",
      " [10 11 12]]\n",
      "[ 1  2  3  4  5  6  7  8  9 10 11 12]\n"
     ]
    }
   ],
   "source": [
    "arr = np.array([\n",
    "    [1, 2],\n",
    "    [3, 4],\n",
    "    [5, 6]\n",
    "])\n",
    "\n",
    "dim = arr.shape\n",
    "print(dim)\n",
    "# reshape array\n",
    "newarr = arr.copy()\n",
    "\n",
    "newarr = newarr.reshape(2, 3)\n",
    "print(newarr)\n",
    "\n",
    "newarr = np.array([1, 2, 3, 4, 5, 6, 7, 8, 9, 10, 11, 12])\n",
    "rearr = newarr.reshape(4, 3)\n",
    "print(rearr)\n",
    "\n",
    "# Flattening array\n",
    "flatarr = rearr.reshape(-1)\n",
    "print(flatarr)\n"
   ]
  },
  {
   "cell_type": "code",
   "execution_count": 195,
   "id": "9808fc4a-a318-4a43-8333-ee013b58a99e",
   "metadata": {},
   "outputs": [
    {
     "name": "stdout",
     "output_type": "stream",
     "text": [
      "[1 2 3]\n",
      "[4 5 6]\n",
      "[7 8 9]\n",
      "[10 11 12]\n",
      "b'1'\n",
      "b'2'\n",
      "b'3'\n"
     ]
    }
   ],
   "source": [
    "arr = np.array([[[1, 2, 3], [4, 5, 6]], [[7, 8, 9], [10, 11, 12]]])\n",
    "\n",
    "for x in arr:\n",
    "    for y in x:\n",
    "        print(y)\n",
    "\n",
    "arr = np.array([1, 2, 3])\n",
    "\n",
    "for x in np.nditer(arr, flags=['buffered'], op_dtypes=['S']):\n",
    "    print(x)"
   ]
  },
  {
   "cell_type": "markdown",
   "id": "e6d353b0-6483-476a-b07c-b6d4f843ee04",
   "metadata": {},
   "source": [
    "### Array join"
   ]
  },
  {
   "cell_type": "code",
   "execution_count": 209,
   "id": "4ac8db60-9fb7-48e6-b92d-cb24ca577ded",
   "metadata": {},
   "outputs": [
    {
     "name": "stdout",
     "output_type": "stream",
     "text": [
      "[5]\n"
     ]
    }
   ],
   "source": [
    "arr1 = np.array([1, 2, 3])\n",
    "arr2 = np.array([3, 2, 4])\n",
    "\n",
    "arra = np.stack((arr2, arr1), axis=0)\n",
    "\n",
    "# split\n",
    "arr = np.array([1, 2, 3, 4, 5, 6])\n",
    "newarr = np.array_split(arr, 4)[2]\n",
    "\n",
    "print(newarr)"
   ]
  },
  {
   "cell_type": "markdown",
   "id": "7fff5166-2b6a-4367-a001-8f007b47d409",
   "metadata": {},
   "source": [
    "### numpy random"
   ]
  },
  {
   "cell_type": "code",
   "execution_count": 307,
   "id": "45e9c4df-52d1-4679-a376-71a6f1845fd6",
   "metadata": {},
   "outputs": [
    {
     "data": {
      "text/plain": [
       "array([[0, 0],\n",
       "       [0, 0],\n",
       "       [0, 1],\n",
       "       [1, 1],\n",
       "       [1, 0]])"
      ]
     },
     "execution_count": 307,
     "metadata": {},
     "output_type": "execute_result"
    }
   ],
   "source": [
    "from numpy import random\n",
    "\n",
    "x = random.randint(100)\n",
    "randfloat = random.rand(3, 2)\n",
    "# print(randfloat)\n",
    "y = random.randint(2, size=(5,2))\n",
    "\n",
    "y"
   ]
  },
  {
   "cell_type": "code",
   "execution_count": 310,
   "id": "f841f077-b16e-435c-950f-0fc8ba4684c5",
   "metadata": {},
   "outputs": [
    {
     "data": {
      "text/plain": [
       "array([[2, 4, 2, 2, 3],\n",
       "       [2, 3, 5, 4, 5],\n",
       "       [4, 4, 3, 5, 5]])"
      ]
     },
     "execution_count": 310,
     "metadata": {},
     "output_type": "execute_result"
    }
   ],
   "source": [
    "# Data distribution\n",
    "randChoice = random.choice([1, 2, 3, 4], p=[0.1, 0.3, 0.6, 0.0], size=10)\n",
    "\n",
    "x = random.choice([2, 3, 4, 5], p=[0.1, 0.2, 0.3, 0.4], size=(3, 5))\n",
    "x"
   ]
  },
  {
   "cell_type": "markdown",
   "id": "485ad3e7-2a7b-4936-9a77-3a5ad9c1fdf8",
   "metadata": {},
   "source": [
    "### Visualisation"
   ]
  },
  {
   "cell_type": "code",
   "execution_count": 34,
   "id": "cd77168f-4b3f-425b-aa52-c01dfdd84c99",
   "metadata": {},
   "outputs": [
    {
     "name": "stderr",
     "output_type": "stream",
     "text": [
      "C:\\dev\\anaconda3\\envs\\mlenv\\lib\\site-packages\\seaborn\\axisgrid.py:118: UserWarning: The figure layout has changed to tight\n",
      "  self._figure.tight_layout(*args, **kwargs)\n"
     ]
    },
    {
     "data": {
      "text/plain": [
       "<seaborn.axisgrid.FacetGrid at 0x270ce930880>"
      ]
     },
     "execution_count": 34,
     "metadata": {},
     "output_type": "execute_result"
    },
    {
     "data": {
      "image/png": "[encoded data removed]",
      "text/plain": [
       "<Figure size 500x500 with 1 Axes>"
      ]
     },
     "metadata": {},
     "output_type": "display_data"
    }
   ],
   "source": [
    "import matplotlib.pyplot as plt\n",
    "import seaborn as sns\n",
    "from numpy import random\n",
    "\n",
    "# sns.distplot([0, 1, 2, 3, 4, 5])\n",
    "\n",
    "x = random.rand(3, 2)\n",
    "\n",
    "y = random.rand(3, 1)\n",
    "# sns.displot(x+y)\n",
    "\n",
    "sns.displot([1])\n"
   ]
  },
  {
   "cell_type": "markdown",
   "id": "eccd37aa",
   "metadata": {},
   "source": [
    "### Normal Distribution\n",
    "\n",
    "* loc - (Mean) where the peak of the bell exists.\n",
    "* scale - standard deviation how flat the graph distribution should be.\n",
    "* size - returend array"
   ]
  },
  {
   "cell_type": "code",
   "execution_count": 63,
   "id": "18b4c321",
   "metadata": {},
   "outputs": [
    {
     "name": "stderr",
     "output_type": "stream",
     "text": [
      "C:\\Users\\sudip\\AppData\\Local\\Temp\\ipykernel_5884\\1582105293.py:12: UserWarning: \n",
      "\n",
      "`distplot` is a deprecated function and will be removed in seaborn v0.14.0.\n",
      "\n",
      "Please adapt your code to use either `displot` (a figure-level function with\n",
      "similar flexibility) or `kdeplot` (an axes-level function for kernel density plots).\n",
      "\n",
      "For a guide to updating your code to use the new functions, please see\n",
      "https://gist.github.com/mwaskom/de44147ed2974457ad6372750bbe5751\n",
      "\n",
      "  sns.distplot(normal1, hist=False)\n"
     ]
    },
    {
     "data": {
      "text/plain": [
       "<Axes: ylabel='Density'>"
      ]
     },
     "execution_count": 63,
     "metadata": {},
     "output_type": "execute_result"
    },
    {
     "data": {
      "image/png": "[encoded data removed]",
      "text/plain": [
       "<Figure size 640x480 with 1 Axes>"
      ]
     },
     "metadata": {},
     "output_type": "display_data"
    }
   ],
   "source": [
    "import seaborn as sns\n",
    "import matplotlib.pyplot as plt\n",
    "import numpy as np \n",
    "\n",
    "\n",
    "x = np.random.normal(size=(2, 3))\n",
    "\n",
    "x = np.random.normal(loc=1, scale=3, size=(2, 3))\n",
    "normal1 = np.random.normal(size=1000)\n",
    "\n",
    "\n",
    "sns.distplot(normal1, hist=False)\n",
    "# plt.show()"
   ]
  },
  {
   "cell_type": "markdown",
   "id": "4a297efa",
   "metadata": {},
   "source": [
    "### Bionomial distribution\n",
    "\n",
    "\n",
    "Binomial Distribution is a Discrete Distribution. It describes the outcome of binary scenarios, \n",
    "<br>**e.g. toss of a coin, it will either be head or tails.\n",
    "\n",
    "It has 3 parameters:\n",
    "* n - number of trials.\n",
    "\n",
    "* p - probability of occurence of each trial \n",
    "<br>**(e.g. for toss of a coin 0.5 each).\n",
    "\n",
    "* size - The shape of the returned array.\n"
   ]
  },
  {
   "cell_type": "code",
   "execution_count": 69,
   "id": "ba3e7693",
   "metadata": {},
   "outputs": [
    {
     "name": "stderr",
     "output_type": "stream",
     "text": [
      "C:\\Users\\sudip\\AppData\\Local\\Temp\\ipykernel_5884\\2820078747.py:7: UserWarning: \n",
      "\n",
      "`distplot` is a deprecated function and will be removed in seaborn v0.14.0.\n",
      "\n",
      "Please adapt your code to use either `displot` (a figure-level function with\n",
      "similar flexibility) or `histplot` (an axes-level function for histograms).\n",
      "\n",
      "For a guide to updating your code to use the new functions, please see\n",
      "https://gist.github.com/mwaskom/de44147ed2974457ad6372750bbe5751\n",
      "\n",
      "  sns.distplot(x, hist=True, kde=False)\n"
     ]
    },
    {
     "data": {
      "image/png": "[encoded data removed]",
      "text/plain": [
       "<Figure size 640x480 with 1 Axes>"
      ]
     },
     "metadata": {},
     "output_type": "display_data"
    }
   ],
   "source": [
    "import numpy as np\n",
    "import seaborn as sns\n",
    "import matplotlib.pyplot as plt\n",
    "\n",
    "x = np.random.binomial(n = 10, p=0.5, size=10000)\n",
    "\n",
    "sns.distplot(x, hist=True, kde=False)\n",
    "\n",
    "plt.show()"
   ]
  },
  {
   "cell_type": "markdown",
   "id": "92565f30",
   "metadata": {},
   "source": [
    "### Poison distribution\n",
    "Poisson Distribution is a Discrete Distribution. It estimates how many times an event can happen in a specified time. \n",
    "\n",
    "ex. If someone eats twice a day what is the probability he will eat thrice?\n",
    "\n",
    "It has 2 parameters:\n",
    "* lam - rate or known number of occurrences \n",
    "<br>*e.g. 2 for above problem.\n",
    "\n",
    "* size - The shape of the returned array."
   ]
  },
  {
   "cell_type": "code",
   "execution_count": 75,
   "id": "c697799d",
   "metadata": {},
   "outputs": [
    {
     "name": "stderr",
     "output_type": "stream",
     "text": [
      "C:\\Users\\sudip\\AppData\\Local\\Temp\\ipykernel_5884\\1460555342.py:18: UserWarning: \n",
      "\n",
      "`distplot` is a deprecated function and will be removed in seaborn v0.14.0.\n",
      "\n",
      "Please adapt your code to use either `displot` (a figure-level function with\n",
      "similar flexibility) or `kdeplot` (an axes-level function for kernel density plots).\n",
      "\n",
      "For a guide to updating your code to use the new functions, please see\n",
      "https://gist.github.com/mwaskom/de44147ed2974457ad6372750bbe5751\n",
      "\n",
      "  sns.distplot(a, hist=False, label='binomial')\n",
      "C:\\Users\\sudip\\AppData\\Local\\Temp\\ipykernel_5884\\1460555342.py:19: UserWarning: \n",
      "\n",
      "`distplot` is a deprecated function and will be removed in seaborn v0.14.0.\n",
      "\n",
      "Please adapt your code to use either `displot` (a figure-level function with\n",
      "similar flexibility) or `kdeplot` (an axes-level function for kernel density plots).\n",
      "\n",
      "For a guide to updating your code to use the new functions, please see\n",
      "https://gist.github.com/mwaskom/de44147ed2974457ad6372750bbe5751\n",
      "\n",
      "  sns.distplot(b, hist=False, label='poisson')\n",
      "C:\\Users\\sudip\\AppData\\Local\\Temp\\ipykernel_5884\\1460555342.py:20: UserWarning: \n",
      "\n",
      "`distplot` is a deprecated function and will be removed in seaborn v0.14.0.\n",
      "\n",
      "Please adapt your code to use either `displot` (a figure-level function with\n",
      "similar flexibility) or `histplot` (an axes-level function for histograms).\n",
      "\n",
      "For a guide to updating your code to use the new functions, please see\n",
      "https://gist.github.com/mwaskom/de44147ed2974457ad6372750bbe5751\n",
      "\n",
      "  sns.distplot()\n",
      "C:\\dev\\anaconda3\\envs\\mlenv\\lib\\site-packages\\seaborn\\distributions.py:2479: RuntimeWarning: Mean of empty slice.\n",
      "  line, = ax.plot(a.mean(), 0)\n",
      "C:\\dev\\anaconda3\\envs\\mlenv\\lib\\site-packages\\numpy\\core\\_methods.py:192: RuntimeWarning: invalid value encountered in scalar divide\n",
      "  ret = ret.dtype.type(ret / rcount)\n",
      "C:\\dev\\anaconda3\\envs\\mlenv\\lib\\site-packages\\numpy\\lib\\histograms.py:883: RuntimeWarning: invalid value encountered in divide\n",
      "  return n/db/n.sum(), bin_edges\n"
     ]
    },
    {
     "data": {
      "image/png": "[encoded data removed]",
      "text/plain": [
       "<Figure size 640x480 with 1 Axes>"
      ]
     },
     "metadata": {},
     "output_type": "display_data"
    }
   ],
   "source": [
    "import numpy as np\n",
    "import matplotlib.pyplot as plt\n",
    "import seaborn as sns\n",
    "\n",
    "x = np.random.poisson(lam=2, size=1000)\n",
    "\n",
    "# sns.distplot(x, kde=False)\n",
    "\n",
    "# difference between normal & poisson distribution\n",
    "# a = np.random.normal(loc=50, scale=7, size=1000)\n",
    "# b = np.random.poisson(lam=50, size=1000)\n",
    "\n",
    "# difference between binomial & poisson distribution\n",
    "a = np.random.binomial(n=1000, p=0.01, size=1000)\n",
    "b = np.random.poisson(lam=50, size=1000)\n",
    "\n",
    "# sns.distplot(a, hist=False, label='normal')\n",
    "sns.distplot(a, hist=False, label='binomial')\n",
    "sns.distplot(b, hist=False, label='poisson')\n",
    "sns.distplot()\n",
    "plt.show()"
   ]
  },
  {
   "cell_type": "markdown",
   "id": "6a49a7c3",
   "metadata": {},
   "source": [
    "### Uniform distribution\n",
    "\n",
    "* a lower bound\n",
    "* b upperbound\n",
    "* size - the shape of returend array"
   ]
  },
  {
   "cell_type": "code",
   "execution_count": 2,
   "id": "67150115",
   "metadata": {},
   "outputs": [
    {
     "name": "stderr",
     "output_type": "stream",
     "text": [
      "C:\\Users\\sudip\\AppData\\Local\\Temp\\ipykernel_10248\\1028166007.py:7: UserWarning: \n",
      "\n",
      "`distplot` is a deprecated function and will be removed in seaborn v0.14.0.\n",
      "\n",
      "Please adapt your code to use either `displot` (a figure-level function with\n",
      "similar flexibility) or `histplot` (an axes-level function for histograms).\n",
      "\n",
      "For a guide to updating your code to use the new functions, please see\n",
      "https://gist.github.com/mwaskom/de44147ed2974457ad6372750bbe5751\n",
      "\n",
      "  sns.distplot(ud)\n"
     ]
    },
    {
     "data": {
      "image/png": "[encoded data removed]",
      "text/plain": [
       "<Figure size 640x480 with 1 Axes>"
      ]
     },
     "metadata": {},
     "output_type": "display_data"
    }
   ],
   "source": [
    "import numpy as np\n",
    "import matplotlib.pyplot as plt\n",
    "import seaborn as sns\n",
    "\n",
    "ud = np.random.uniform(0, 4, size=(3, 2))\n",
    "\n",
    "sns.distplot(ud)\n",
    "plt.show()"
   ]
  },
  {
   "cell_type": "markdown",
   "id": "7d25f5e9",
   "metadata": {},
   "source": [
    "### Logistic distribution\n",
    "it describes the growth"
   ]
  },
  {
   "cell_type": "code",
   "execution_count": 7,
   "id": "1ec8048c",
   "metadata": {},
   "outputs": [
    {
     "name": "stderr",
     "output_type": "stream",
     "text": [
      "C:\\Users\\sudip\\AppData\\Local\\Temp\\ipykernel_10248\\1957449453.py:8: UserWarning: \n",
      "\n",
      "`distplot` is a deprecated function and will be removed in seaborn v0.14.0.\n",
      "\n",
      "Please adapt your code to use either `displot` (a figure-level function with\n",
      "similar flexibility) or `histplot` (an axes-level function for histograms).\n",
      "\n",
      "For a guide to updating your code to use the new functions, please see\n",
      "https://gist.github.com/mwaskom/de44147ed2974457ad6372750bbe5751\n",
      "\n",
      "  sns.distplot(nd, hist=True)\n",
      "C:\\Users\\sudip\\AppData\\Local\\Temp\\ipykernel_10248\\1957449453.py:9: UserWarning: \n",
      "\n",
      "`distplot` is a deprecated function and will be removed in seaborn v0.14.0.\n",
      "\n",
      "Please adapt your code to use either `displot` (a figure-level function with\n",
      "similar flexibility) or `histplot` (an axes-level function for histograms).\n",
      "\n",
      "For a guide to updating your code to use the new functions, please see\n",
      "https://gist.github.com/mwaskom/de44147ed2974457ad6372750bbe5751\n",
      "\n",
      "  sns.distplot(ld, hist=True)\n"
     ]
    },
    {
     "data": {
      "image/png": "[encoded data removed]",
      "text/plain": [
       "<Figure size 640x480 with 1 Axes>"
      ]
     },
     "metadata": {},
     "output_type": "display_data"
    }
   ],
   "source": [
    "import numpy as np\n",
    "import matplotlib.pyplot as plt\n",
    "import seaborn as sns\n",
    "\n",
    "nd = np.random.normal(scale=0.5, size=1000)\n",
    "ld = np.random.logistic(loc=1.53, scale=0.3, size=1000)\n",
    "\n",
    "sns.distplot(nd, hist=True)\n",
    "sns.distplot(ld, hist=True)\n",
    "plt.show()\n"
   ]
  },
  {
   "cell_type": "markdown",
   "id": "2c1d00a4",
   "metadata": {},
   "source": [
    "### Exponential Distribution\n",
    "\n",
    "* scale - inverse of rate (lam in poisson dist.) default 1.0\n",
    "* size - the shape of returend arry"
   ]
  },
  {
   "cell_type": "code",
   "execution_count": 12,
   "id": "b2fced2f",
   "metadata": {},
   "outputs": [
    {
     "name": "stderr",
     "output_type": "stream",
     "text": [
      "C:\\Users\\sudip\\AppData\\Local\\Temp\\ipykernel_10248\\3013479723.py:9: UserWarning: \n",
      "\n",
      "`distplot` is a deprecated function and will be removed in seaborn v0.14.0.\n",
      "\n",
      "Please adapt your code to use either `displot` (a figure-level function with\n",
      "similar flexibility) or `histplot` (an axes-level function for histograms).\n",
      "\n",
      "For a guide to updating your code to use the new functions, please see\n",
      "https://gist.github.com/mwaskom/de44147ed2974457ad6372750bbe5751\n",
      "\n",
      "  sns.distplot(ed, hist=True)\n"
     ]
    },
    {
     "data": {
      "image/png": "[encoded data removed]",
      "text/plain": [
       "<Figure size 640x480 with 1 Axes>"
      ]
     },
     "metadata": {},
     "output_type": "display_data"
    }
   ],
   "source": [
    "import numpy as np\n",
    "import matplotlib.pyplot as plt\n",
    "import seaborn as sns\n",
    "\n",
    "ed = np.random.exponential(scale=1.5, size=(2, 3))\n",
    "\n",
    "ed = np.random.exponential(size=1000)\n",
    "\n",
    "sns.distplot(ed, hist=True)\n",
    "plt.show()"
   ]
  },
  {
   "cell_type": "code",
   "execution_count": null,
   "id": "5e63bba1",
   "metadata": {},
   "outputs": [],
   "source": []
  },
  {
   "cell_type": "code",
   "execution_count": null,
   "id": "885abfab",
   "metadata": {},
   "outputs": [],
   "source": []
  },
  {
   "cell_type": "code",
   "execution_count": null,
   "id": "20af8e25",
   "metadata": {},
   "outputs": [],
   "source": []
  }
 ],
 "metadata": {
  "kernelspec": {
   "display_name": "Python 3 (ipykernel)",
   "language": "python",
   "name": "python3"
  },
  "language_info": {
   "codemirror_mode": {
    "name": "ipython",
    "version": 3
   },
   "file_extension": ".py",
   "mimetype": "text/x-python",
   "name": "python",
   "nbconvert_exporter": "python",
   "pygments_lexer": "ipython3",
   "version": "3.9.18"
  }
 },
 "nbformat": 4,
 "nbformat_minor": 5
}
