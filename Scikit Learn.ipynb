{
 "cells": [
  {
   "cell_type": "code",
   "execution_count": 1,
   "id": "7dd9efa5",
   "metadata": {},
   "outputs": [
    {
     "data": {
      "text/plain": [
       "'1.3.0'"
      ]
     },
     "execution_count": 1,
     "metadata": {},
     "output_type": "execute_result"
    }
   ],
   "source": [
    "import sklearn\n",
    "\n",
    "sklearn.__version__"
   ]
  },
  {
   "cell_type": "code",
   "execution_count": 2,
   "id": "bf05ad91",
   "metadata": {},
   "outputs": [],
   "source": [
    "from sklearn.datasets import fetch_california_housing\n",
    "# import pandas as pd\n",
    "# import numpy as np\n",
    "\n",
    "# data_url = \"http://lib.stat.cmu.edu/datasets/boston\"\n",
    "# raw_df = pd.read_csv(data_url, sep=\"\\s+\", skiprows=22, header=None)\n",
    "# raw_df\n",
    "\n",
    "\n",
    "X, y = fetch_california_housing(return_X_y=True)"
   ]
  },
  {
   "cell_type": "code",
   "execution_count": 3,
   "id": "86a4b8db",
   "metadata": {},
   "outputs": [
    {
     "data": {
      "text/plain": [
       "array([2.826802, 2.1594  , 3.650404, ..., 1.2882  , 1.4418  , 1.7342  ])"
      ]
     },
     "execution_count": 3,
     "metadata": {},
     "output_type": "execute_result"
    }
   ],
   "source": [
    "from sklearn.neighbors import KNeighborsRegressor\n",
    "\n",
    "model1 = KNeighborsRegressor()\n",
    "model1.fit(X, y)\n",
    "model1.predict(X)"
   ]
  },
  {
   "cell_type": "code",
   "execution_count": 4,
   "id": "03d63ba3",
   "metadata": {},
   "outputs": [
    {
     "data": {
      "text/plain": [
       "array([4.13164983, 3.97660644, 3.67657094, ..., 0.17125141, 0.31910524,\n",
       "       0.51580363])"
      ]
     },
     "execution_count": 4,
     "metadata": {},
     "output_type": "execute_result"
    }
   ],
   "source": [
    "from sklearn.linear_model import LinearRegression\n",
    "\n",
    "model2 = LinearRegression()\n",
    "model2.fit(X, y)\n",
    "model2.predict(X)"
   ]
  },
  {
   "cell_type": "code",
   "execution_count": 5,
   "id": "ba1c9586",
   "metadata": {},
   "outputs": [
    {
     "data": {
      "text/plain": [
       "<matplotlib.collections.PathCollection at 0x1c5a360ae80>"
      ]
     },
     "execution_count": 5,
     "metadata": {},
     "output_type": "execute_result"
    },
    {
     "data": {
      "image/png": "[encoded data removed]",
      "text/plain": [
       "<Figure size 640x480 with 1 Axes>"
      ]
     },
     "metadata": {},
     "output_type": "display_data"
    }
   ],
   "source": [
    "import matplotlib.pyplot as plt\n",
    "\n",
    "pred1 = model1.predict(X)\n",
    "pred2 = model2.predict(X)\n",
    "\n",
    "plt.scatter(pred2, y)"
   ]
  },
  {
   "cell_type": "markdown",
   "id": "933b4d2f",
   "metadata": {},
   "source": [
    "### preprocessing"
   ]
  },
  {
   "cell_type": "code",
   "execution_count": 19,
   "id": "5c575bdf",
   "metadata": {
    "scrolled": true
   },
   "outputs": [
    {
     "data": {
      "text/html": [
       "<div>\n",
       "<style scoped>\n",
       "    .dataframe tbody tr th:only-of-type {\n",
       "        vertical-align: middle;\n",
       "    }\n",
       "\n",
       "    .dataframe tbody tr th {\n",
       "        vertical-align: top;\n",
       "    }\n",
       "\n",
       "    .dataframe thead th {\n",
       "        text-align: right;\n",
       "    }\n",
       "</style>\n",
       "<table border=\"1\" class=\"dataframe\">\n",
       "  <thead>\n",
       "    <tr style=\"text-align: right;\">\n",
       "      <th></th>\n",
       "      <th>mean_fit_time</th>\n",
       "      <th>std_fit_time</th>\n",
       "      <th>mean_score_time</th>\n",
       "      <th>std_score_time</th>\n",
       "      <th>param_model__n_neighbors</th>\n",
       "      <th>params</th>\n",
       "      <th>split0_test_score</th>\n",
       "      <th>split1_test_score</th>\n",
       "      <th>split2_test_score</th>\n",
       "      <th>mean_test_score</th>\n",
       "      <th>std_test_score</th>\n",
       "      <th>rank_test_score</th>\n",
       "    </tr>\n",
       "  </thead>\n",
       "  <tbody>\n",
       "    <tr>\n",
       "      <th>0</th>\n",
       "      <td>0.018086</td>\n",
       "      <td>0.001310</td>\n",
       "      <td>0.416981</td>\n",
       "      <td>0.023545</td>\n",
       "      <td>1</td>\n",
       "      <td>{'model__n_neighbors': 1}</td>\n",
       "      <td>0.324068</td>\n",
       "      <td>0.334830</td>\n",
       "      <td>0.323371</td>\n",
       "      <td>0.327423</td>\n",
       "      <td>0.005245</td>\n",
       "      <td>10</td>\n",
       "    </tr>\n",
       "    <tr>\n",
       "      <th>1</th>\n",
       "      <td>0.016463</td>\n",
       "      <td>0.001075</td>\n",
       "      <td>0.456081</td>\n",
       "      <td>0.039783</td>\n",
       "      <td>2</td>\n",
       "      <td>{'model__n_neighbors': 2}</td>\n",
       "      <td>0.468788</td>\n",
       "      <td>0.503457</td>\n",
       "      <td>0.424388</td>\n",
       "      <td>0.465544</td>\n",
       "      <td>0.032361</td>\n",
       "      <td>9</td>\n",
       "    </tr>\n",
       "    <tr>\n",
       "      <th>2</th>\n",
       "      <td>0.016616</td>\n",
       "      <td>0.000485</td>\n",
       "      <td>0.477907</td>\n",
       "      <td>0.037183</td>\n",
       "      <td>3</td>\n",
       "      <td>{'model__n_neighbors': 3}</td>\n",
       "      <td>0.518547</td>\n",
       "      <td>0.543340</td>\n",
       "      <td>0.473595</td>\n",
       "      <td>0.511827</td>\n",
       "      <td>0.028867</td>\n",
       "      <td>8</td>\n",
       "    </tr>\n",
       "    <tr>\n",
       "      <th>3</th>\n",
       "      <td>0.017287</td>\n",
       "      <td>0.000471</td>\n",
       "      <td>0.573623</td>\n",
       "      <td>0.131679</td>\n",
       "      <td>4</td>\n",
       "      <td>{'model__n_neighbors': 4}</td>\n",
       "      <td>0.540323</td>\n",
       "      <td>0.564974</td>\n",
       "      <td>0.499827</td>\n",
       "      <td>0.535041</td>\n",
       "      <td>0.026857</td>\n",
       "      <td>7</td>\n",
       "    </tr>\n",
       "    <tr>\n",
       "      <th>4</th>\n",
       "      <td>0.019712</td>\n",
       "      <td>0.002284</td>\n",
       "      <td>0.722592</td>\n",
       "      <td>0.138734</td>\n",
       "      <td>5</td>\n",
       "      <td>{'model__n_neighbors': 5}</td>\n",
       "      <td>0.551149</td>\n",
       "      <td>0.579313</td>\n",
       "      <td>0.511781</td>\n",
       "      <td>0.547414</td>\n",
       "      <td>0.027696</td>\n",
       "      <td>6</td>\n",
       "    </tr>\n",
       "    <tr>\n",
       "      <th>5</th>\n",
       "      <td>0.019445</td>\n",
       "      <td>0.000919</td>\n",
       "      <td>0.767336</td>\n",
       "      <td>0.066161</td>\n",
       "      <td>6</td>\n",
       "      <td>{'model__n_neighbors': 6}</td>\n",
       "      <td>0.558435</td>\n",
       "      <td>0.586185</td>\n",
       "      <td>0.521134</td>\n",
       "      <td>0.555251</td>\n",
       "      <td>0.026652</td>\n",
       "      <td>5</td>\n",
       "    </tr>\n",
       "    <tr>\n",
       "      <th>6</th>\n",
       "      <td>0.019138</td>\n",
       "      <td>0.001268</td>\n",
       "      <td>0.638134</td>\n",
       "      <td>0.042079</td>\n",
       "      <td>7</td>\n",
       "      <td>{'model__n_neighbors': 7}</td>\n",
       "      <td>0.564207</td>\n",
       "      <td>0.590509</td>\n",
       "      <td>0.525223</td>\n",
       "      <td>0.559979</td>\n",
       "      <td>0.026820</td>\n",
       "      <td>4</td>\n",
       "    </tr>\n",
       "    <tr>\n",
       "      <th>7</th>\n",
       "      <td>0.019132</td>\n",
       "      <td>0.000623</td>\n",
       "      <td>0.635760</td>\n",
       "      <td>0.044596</td>\n",
       "      <td>8</td>\n",
       "      <td>{'model__n_neighbors': 8}</td>\n",
       "      <td>0.568637</td>\n",
       "      <td>0.593942</td>\n",
       "      <td>0.529337</td>\n",
       "      <td>0.563972</td>\n",
       "      <td>0.026580</td>\n",
       "      <td>3</td>\n",
       "    </tr>\n",
       "    <tr>\n",
       "      <th>8</th>\n",
       "      <td>0.018911</td>\n",
       "      <td>0.000681</td>\n",
       "      <td>0.636608</td>\n",
       "      <td>0.045692</td>\n",
       "      <td>9</td>\n",
       "      <td>{'model__n_neighbors': 9}</td>\n",
       "      <td>0.571972</td>\n",
       "      <td>0.594863</td>\n",
       "      <td>0.529928</td>\n",
       "      <td>0.565588</td>\n",
       "      <td>0.026891</td>\n",
       "      <td>2</td>\n",
       "    </tr>\n",
       "    <tr>\n",
       "      <th>9</th>\n",
       "      <td>0.018714</td>\n",
       "      <td>0.000289</td>\n",
       "      <td>0.653668</td>\n",
       "      <td>0.043668</td>\n",
       "      <td>10</td>\n",
       "      <td>{'model__n_neighbors': 10}</td>\n",
       "      <td>0.573760</td>\n",
       "      <td>0.595831</td>\n",
       "      <td>0.532973</td>\n",
       "      <td>0.567522</td>\n",
       "      <td>0.026038</td>\n",
       "      <td>1</td>\n",
       "    </tr>\n",
       "  </tbody>\n",
       "</table>\n",
       "</div>"
      ],
      "text/plain": [
       "   mean_fit_time  std_fit_time  mean_score_time  std_score_time  \\\n",
       "0       0.018086      0.001310         0.416981        0.023545   \n",
       "1       0.016463      0.001075         0.456081        0.039783   \n",
       "2       0.016616      0.000485         0.477907        0.037183   \n",
       "3       0.017287      0.000471         0.573623        0.131679   \n",
       "4       0.019712      0.002284         0.722592        0.138734   \n",
       "5       0.019445      0.000919         0.767336        0.066161   \n",
       "6       0.019138      0.001268         0.638134        0.042079   \n",
       "7       0.019132      0.000623         0.635760        0.044596   \n",
       "8       0.018911      0.000681         0.636608        0.045692   \n",
       "9       0.018714      0.000289         0.653668        0.043668   \n",
       "\n",
       "  param_model__n_neighbors                      params  split0_test_score  \\\n",
       "0                        1   {'model__n_neighbors': 1}           0.324068   \n",
       "1                        2   {'model__n_neighbors': 2}           0.468788   \n",
       "2                        3   {'model__n_neighbors': 3}           0.518547   \n",
       "3                        4   {'model__n_neighbors': 4}           0.540323   \n",
       "4                        5   {'model__n_neighbors': 5}           0.551149   \n",
       "5                        6   {'model__n_neighbors': 6}           0.558435   \n",
       "6                        7   {'model__n_neighbors': 7}           0.564207   \n",
       "7                        8   {'model__n_neighbors': 8}           0.568637   \n",
       "8                        9   {'model__n_neighbors': 9}           0.571972   \n",
       "9                       10  {'model__n_neighbors': 10}           0.573760   \n",
       "\n",
       "   split1_test_score  split2_test_score  mean_test_score  std_test_score  \\\n",
       "0           0.334830           0.323371         0.327423        0.005245   \n",
       "1           0.503457           0.424388         0.465544        0.032361   \n",
       "2           0.543340           0.473595         0.511827        0.028867   \n",
       "3           0.564974           0.499827         0.535041        0.026857   \n",
       "4           0.579313           0.511781         0.547414        0.027696   \n",
       "5           0.586185           0.521134         0.555251        0.026652   \n",
       "6           0.590509           0.525223         0.559979        0.026820   \n",
       "7           0.593942           0.529337         0.563972        0.026580   \n",
       "8           0.594863           0.529928         0.565588        0.026891   \n",
       "9           0.595831           0.532973         0.567522        0.026038   \n",
       "\n",
       "   rank_test_score  \n",
       "0               10  \n",
       "1                9  \n",
       "2                8  \n",
       "3                7  \n",
       "4                6  \n",
       "5                5  \n",
       "6                4  \n",
       "7                3  \n",
       "8                2  \n",
       "9                1  "
      ]
     },
     "execution_count": 19,
     "metadata": {},
     "output_type": "execute_result"
    }
   ],
   "source": [
    "from sklearn.preprocessing import StandardScaler\n",
    "from sklearn.pipeline import Pipeline\n",
    "from sklearn.neighbors import KNeighborsRegressor\n",
    "import matplotlib.pyplot as plt\n",
    "from sklearn.model_selection import GridSearchCV\n",
    "import pandas as pd\n",
    "\n",
    "# create pipeline\n",
    "pipe = Pipeline([\n",
    "    ('scale', StandardScaler()),\n",
    "    ('model', KNeighborsRegressor(n_neighbors=2))\n",
    "])\n",
    "\n",
    "# pipe.fit(X, y)\n",
    "# pred = pipe.predict(X)\n",
    "# plt.scatter(pred, y)\n",
    "\n",
    "# pipe.get_params()\n",
    "\n",
    "# Grid search\n",
    "model = GridSearchCV(\n",
    "    estimator=pipe,\n",
    "    param_grid={'model__n_neighbors': [1, 2, 3, 4, 5, 6, 7, 8, 9, 10]},\n",
    "    cv=3\n",
    ")\n",
    "model.fit(X, y)\n",
    "pd.DataFrame(model.cv_results_)"
   ]
  },
  {
   "cell_type": "code",
   "execution_count": 22,
   "id": "63d41106",
   "metadata": {},
   "outputs": [
    {
     "name": "stdout",
     "output_type": "stream",
     "text": [
      ".. _california_housing_dataset:\n",
      "\n",
      "California Housing dataset\n",
      "--------------------------\n",
      "\n",
      "**Data Set Characteristics:**\n",
      "\n",
      "    :Number of Instances: 20640\n",
      "\n",
      "    :Number of Attributes: 8 numeric, predictive attributes and the target\n",
      "\n",
      "    :Attribute Information:\n",
      "        - MedInc        median income in block group\n",
      "        - HouseAge      median house age in block group\n",
      "        - AveRooms      average number of rooms per household\n",
      "        - AveBedrms     average number of bedrooms per household\n",
      "        - Population    block group population\n",
      "        - AveOccup      average number of household members\n",
      "        - Latitude      block group latitude\n",
      "        - Longitude     block group longitude\n",
      "\n",
      "    :Missing Attribute Values: None\n",
      "\n",
      "This dataset was obtained from the StatLib repository.\n",
      "https://www.dcc.fc.up.pt/~ltorgo/Regression/cal_housing.html\n",
      "\n",
      "The target variable is the median house value for California districts,\n",
      "expressed in hundreds of thousands of dollars ($100,000).\n",
      "\n",
      "This dataset was derived from the 1990 U.S. census, using one row per census\n",
      "block group. A block group is the smallest geographical unit for which the U.S.\n",
      "Census Bureau publishes sample data (a block group typically has a population\n",
      "of 600 to 3,000 people).\n",
      "\n",
      "A household is a group of people residing within a home. Since the average\n",
      "number of rooms and bedrooms in this dataset are provided per household, these\n",
      "columns may take surprisingly large values for block groups with few households\n",
      "and many empty houses, such as vacation resorts.\n",
      "\n",
      "It can be downloaded/loaded using the\n",
      ":func:`sklearn.datasets.fetch_california_housing` function.\n",
      "\n",
      ".. topic:: References\n",
      "\n",
      "    - Pace, R. Kelley and Ronald Barry, Sparse Spatial Autoregressions,\n",
      "      Statistics and Probability Letters, 33 (1997) 291-297\n",
      "\n"
     ]
    }
   ],
   "source": [
    "print(fetch_california_housing()['DESCR'])"
   ]
  },
  {
   "cell_type": "code",
   "execution_count": null,
   "id": "320412af",
   "metadata": {},
   "outputs": [],
   "source": []
  },
  {
   "cell_type": "code",
   "execution_count": null,
   "id": "e6af7d87",
   "metadata": {},
   "outputs": [],
   "source": []
  },
  {
   "cell_type": "code",
   "execution_count": null,
   "id": "17e2a9c5",
   "metadata": {},
   "outputs": [],
   "source": []
  },
  {
   "cell_type": "code",
   "execution_count": null,
   "id": "70033507",
   "metadata": {},
   "outputs": [],
   "source": []
  },
  {
   "cell_type": "code",
   "execution_count": null,
   "id": "56dcc74b",
   "metadata": {},
   "outputs": [],
   "source": []
  }
 ],
 "metadata": {
  "kernelspec": {
   "display_name": "Python 3 (ipykernel)",
   "language": "python",
   "name": "python3"
  },
  "language_info": {
   "codemirror_mode": {
    "name": "ipython",
    "version": 3
   },
   "file_extension": ".py",
   "mimetype": "text/x-python",
   "name": "python",
   "nbconvert_exporter": "python",
   "pygments_lexer": "ipython3",
   "version": "3.9.18"
  }
 },
 "nbformat": 4,
 "nbformat_minor": 5
}
