{
 "cells": [
  {
   "cell_type": "code",
   "execution_count": 2,
   "id": "b6ecfba6",
   "metadata": {},
   "outputs": [],
   "source": [
    "import numpy as np\n",
    "import pandas as pd\n",
    "import matplotlib.pyplot as plt\n"
   ]
  },
  {
   "cell_type": "code",
   "execution_count": 7,
   "id": "32be4f06",
   "metadata": {},
   "outputs": [
    {
     "name": "stdout",
     "output_type": "stream",
     "text": [
      "<class 'pandas.core.frame.DataFrame'>\n",
      "RangeIndex: 21613 entries, 0 to 21612\n",
      "Data columns (total 21 columns):\n",
      " #   Column         Non-Null Count  Dtype  \n",
      "---  ------         --------------  -----  \n",
      " 0   id             21613 non-null  int64  \n",
      " 1   date           21613 non-null  object \n",
      " 2   price          21613 non-null  float64\n",
      " 3   bedrooms       21613 non-null  int64  \n",
      " 4   bathrooms      21613 non-null  float64\n",
      " 5   sqft_living    21613 non-null  int64  \n",
      " 6   sqft_lot       21613 non-null  int64  \n",
      " 7   floors         21613 non-null  float64\n",
      " 8   waterfront     21613 non-null  int64  \n",
      " 9   view           21613 non-null  int64  \n",
      " 10  condition      21613 non-null  int64  \n",
      " 11  grade          21613 non-null  int64  \n",
      " 12  sqft_above     21613 non-null  int64  \n",
      " 13  sqft_basement  21613 non-null  int64  \n",
      " 14  yr_built       21613 non-null  int64  \n",
      " 15  yr_renovated   21613 non-null  int64  \n",
      " 16  zipcode        21613 non-null  int64  \n",
      " 17  lat            21613 non-null  float64\n",
      " 18  long           21613 non-null  float64\n",
      " 19  sqft_living15  21613 non-null  int64  \n",
      " 20  sqft_lot15     21613 non-null  int64  \n",
      "dtypes: float64(5), int64(15), object(1)\n",
      "memory usage: 3.5+ MB\n"
     ]
    }
   ],
   "source": [
    "data = pd.read_csv('dataset/kc_house_data.csv')\n",
    "data.info()"
   ]
  },
  {
   "cell_type": "code",
   "execution_count": 27,
   "id": "855fd76c",
   "metadata": {},
   "outputs": [
    {
     "data": {
      "image/png": "[encoded data removed]",
      "text/plain": [
       "<Figure size 640x480 with 1 Axes>"
      ]
     },
     "metadata": {},
     "output_type": "display_data"
    }
   ],
   "source": [
    "# only working with 1 feature which is bedrooms\n",
    "featuresX = data['sqft_lot']\n",
    "priceY = data['price']\n",
    "\n",
    "# plt.scatter(featuresX, priceY, cmap='Grays')\n",
    "plt.plot(featuresX, priceY, ls='None', marker='*', markersize='1')\n",
    "plt.show()"
   ]
  },
  {
   "cell_type": "code",
   "execution_count": 163,
   "id": "b35979b9",
   "metadata": {},
   "outputs": [
    {
     "data": {
      "text/plain": [
       "array([[-8.10132213e+08],\n",
       "       [-1.42837012e+13]])"
      ]
     },
     "execution_count": 163,
     "metadata": {},
     "output_type": "execute_result"
    }
   ],
   "source": [
    "theta = np.zeros(shape=(2, 1))\n",
    "iterations = 1500\n",
    "alpha = 0.01\n",
    "m = len(priceY)\n",
    "\n",
    "X = featuresX.to_numpy().reshape(-1, 1)\n",
    "y = priceY.to_numpy().reshape(-1, 1)\n",
    "# col = np.ones(len(X)).reshape(-1, 1) # (m, 1)\n",
    "\n",
    "# add a column in X feature\n",
    "# X = np.hstack((col, X))\n",
    "\n",
    "# hx = theta.T * X # our cost\n",
    "hx = np.multiply(theta.T, X)\n",
    "hx = hx[0:, :1]\n",
    "\n",
    "for i in range(iterations):\n",
    "    ddxj0 = np.sum((hx-y), axis=0)\n",
    "    ddxj1 = np.sum(((hx-y) * X), axis=0)\n",
    "    temp0 = theta[0] + ((1/m) * ddxj0)\n",
    "    temp1 = theta[1] + ((1/m) * ddxj1)\n",
    "    theta[0] = temp0\n",
    "    theta[1] = temp1\n",
    "    \n",
    "\n",
    "theta"
   ]
  },
  {
   "cell_type": "markdown",
   "metadata": {},
   "source": [
    "##### simple cost function"
   ]
  },
  {
   "cell_type": "code",
   "execution_count": 29,
   "id": "87303844",
   "metadata": {},
   "outputs": [
    {
     "data": {
      "text/plain": [
       "array([-9., -9.])"
      ]
     },
     "execution_count": 29,
     "metadata": {},
     "output_type": "execute_result"
    }
   ],
   "source": [
    "import numpy as np\n",
    "\n",
    "## cost function\n",
    "def costFunction(X, y, theta):\n",
    "    m = np.array([\n",
    "        len(y), 1\n",
    "    ])\n",
    "    prediction = np.dot(X, theta)\n",
    "    sqrErrors = (prediction - y)\n",
    "    J = 1/(2*m) * np.sum(sqrErrors)\n",
    "    return J\n",
    "\n",
    "X = np.array([[1, 1], [1, 2], [1, 3]])\n",
    "y = np.array([[1, 2, 3]])\n",
    "\n",
    "theta = np.array([[0], [0]])\n",
    "\n",
    "costFunction(X, y, theta)  # -9.0\n",
    "\n",
    "# np.sum(np.array([\n",
    "#     [1], [2], [3], [4]\n",
    "# ]))\n"
   ]
  }
 ],
 "metadata": {
  "kernelspec": {
   "display_name": "Python 3 (ipykernel)",
   "language": "python",
   "name": "python3"
  },
  "language_info": {
   "codemirror_mode": {
    "name": "ipython",
    "version": 3
   },
   "file_extension": ".py",
   "mimetype": "text/x-python",
   "name": "python",
   "nbconvert_exporter": "python",
   "pygments_lexer": "ipython3",
   "version": "3.9.18"
  }
 },
 "nbformat": 4,
 "nbformat_minor": 5
}
