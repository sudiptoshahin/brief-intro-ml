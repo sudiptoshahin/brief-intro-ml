{
 "cells": [
  {
   "cell_type": "code",
   "execution_count": null,
   "id": "422f1fb4",
   "metadata": {},
   "outputs": [],
   "source": [
    "import os\n",
    "import matplotlib.pyplot as plt\n",
    "import numpy as np\n",
    "import pandas as pd\n",
    "import sklearn.linear_model\n",
    "import matplotlib as mpl\n",
    "\n",
    "datapath = os.path.join('datasets', 'lifesat', '')\n",
    "%matplotlib inline\n",
    "mpl.rc('axes', labelsize=14)\n",
    "mpl.rc('xtick', labelsize=12)\n",
    "mpl.rc('ytick', labelsize=12)"
   ]
  },
  {
   "cell_type": "code",
   "execution_count": null,
   "id": "9cc6a113",
   "metadata": {},
   "outputs": [],
   "source": [
    "# oecd_bill_url = 'https://raw.githubusercontent.com/ageron/handson-ml/refs/heads/master/datasets/lifesat/oecd_bli_2015.csv'\n",
    "# gdp_per_capita_url = 'https://raw.githubusercontent.com/ageron/handson-ml/refs/heads/master/datasets/lifesat/oecd_bli_2015.csv'\n",
    "# oecd_bil_df = pd.read_csv(oecd_bill_url, thousands=',')\n",
    "# gdp_per_capita_df = pd.read_csv(gdp_per_capita_url, thousands=',')"
   ]
  },
  {
   "cell_type": "code",
   "execution_count": null,
   "id": "6b65954f",
   "metadata": {},
   "outputs": [],
   "source": [
    "# Download data\n",
    "import urllib.request\n",
    "\n",
    "DOWNLOAD_ROOT = \"https://raw.githubusercontent.com/ageron/handson-ml2/master/\"\n",
    "os.makedirs(datapath, exist_ok=True)\n",
    "for filename in (\"oecd_bli_2015.csv\", \"gdp_per_capita.csv\"):\n",
    "    print(\"Downloading...\", filename)\n",
    "    url = DOWNLOAD_ROOT + \"datasets/lifesat/\" + filename\n",
    "    urllib.request.urlretrieve(url, datapath + filename)"
   ]
  },
  {
   "cell_type": "code",
   "execution_count": null,
   "id": "d6042df6",
   "metadata": {},
   "outputs": [],
   "source": [
    "# Load the data\n",
    "oecd_bli = pd.read_csv(datapath + \"oecd_bli_2015.csv\", thousands=',')\n",
    "gdp_per_capita = pd.read_csv(datapath + \"gdp_per_capita.csv\",thousands=',',delimiter='\\t',\n",
    "                             encoding='latin1', na_values=\"n/a\")"
   ]
  },
  {
   "cell_type": "code",
   "execution_count": null,
   "id": "bc831fb8",
   "metadata": {},
   "outputs": [],
   "source": [
    "oecd_bli.head(5)\n",
    "gdp_per_capita.head(5)"
   ]
  },
  {
   "cell_type": "code",
   "execution_count": null,
   "id": "99316ce2",
   "metadata": {},
   "outputs": [],
   "source": [
    "# gdp_per_capita.head(5)\n",
    "\n",
    "## Pivot -> rearranging or reshaping the data\n",
    "\n",
    "# df = pd.DataFrame({\n",
    "#     'Date': ['2023-01', '2023-01', '2023-02', '2023-02'],\n",
    "#     'Product': ['A', 'B', 'A', 'B'],\n",
    "#     'Sales': [100, 150, 200, 250]\n",
    "# })\n",
    "# df = df.pivot(index=\"Date\", columns=\"Product\", values=\"Sales\")\n",
    "# df = df.pivot(index=\"Product\", columns=\"Date\", values=\"Sales\")\n",
    "# df = df.pivot(index='Date', columns=\"Sales\", values=\"Product\")\n",
    "# df\n",
    "# df = pd.DataFrame({\"A\": [1, 2, 3], \"B\": [4, 5, 6]})\n",
    "# df.rename(columns={\"Date\": \"dates\", \"Product\": '_products_', \"Sales\": '--sale--'}, inplace=False)"
   ]
  },
  {
   "cell_type": "code",
   "execution_count": null,
   "id": "c92fa4bd",
   "metadata": {},
   "outputs": [],
   "source": [
    "\n",
    "def prepare_country_stats(oecd_bli, gdp_per_capita):\n",
    "    oecd_bli = oecd_bli[oecd_bli[\"INEQUALITY\"]==\"TOT\"]\n",
    "    oecd_bli = oecd_bli.pivot(index=\"Country\", columns=\"Indicator\", values=\"Value\")\n",
    "    gdp_per_capita.rename(columns={\"2015\": \"GDP per capita\"}, inplace=True)\n",
    "    gdp_per_capita.set_index(\"Country\", inplace=True)\n",
    "    full_country_stats = pd.merge(left=oecd_bli, right=gdp_per_capita,\n",
    "                                  left_index=True, right_index=True)\n",
    "    full_country_stats.sort_values(by=\"GDP per capita\", inplace=True)\n",
    "    remove_indices = [0, 1, 6, 8, 33, 34, 35]\n",
    "    keep_indices = list(set(range(36)) - set(remove_indices))\n",
    "    return full_country_stats[[\"GDP per capita\", 'Life satisfaction']].iloc[keep_indices]"
   ]
  },
  {
   "cell_type": "code",
   "execution_count": null,
   "id": "966a0a26",
   "metadata": {},
   "outputs": [],
   "source": [
    "country_stat = prepare_country_stats(oecd_bli, gdp_per_capita)"
   ]
  },
  {
   "cell_type": "code",
   "execution_count": null,
   "id": "c4a921c1",
   "metadata": {},
   "outputs": [],
   "source": [
    "country_stat.head(5)"
   ]
  },
  {
   "cell_type": "code",
   "execution_count": null,
   "id": "c0f4337e",
   "metadata": {},
   "outputs": [],
   "source": [
    "X = np.c_[country_stat['GDP per capita']]\n",
    "y = np.c_[country_stat['Life satisfaction']]\n",
    "\n",
    "# temp = np.c_[country_stat['GDP per capita'], country_stat['Life satisfaction']]"
   ]
  },
  {
   "cell_type": "code",
   "execution_count": null,
   "id": "5a0f4875",
   "metadata": {},
   "outputs": [],
   "source": [
    "# Visualize the data\n",
    "country_stat.plot(kind='scatter', x='GDP per capita', y='Life satisfaction')\n",
    "plt.show()\n",
    "\n",
    "# select the model\n",
    "model = sklearn.linear_model.LinearRegression()\n",
    "\n",
    "# train model\n",
    "model.fit(X, y)\n",
    "\n",
    "# make new prediction for Cyprus\n",
    "X_new = [[22587]] # cyprus GDP per capita\n",
    "print(model.predict(X_new))"
   ]
  },
  {
   "cell_type": "code",
   "execution_count": null,
   "id": "4dfb1142",
   "metadata": {},
   "outputs": [],
   "source": [
    "from sklearn.neighbors import KNeighborsRegressor\n",
    "\n",
    "model1 = KNeighborsRegressor(n_neighbors=3)\n",
    "\n",
    "# train the model\n",
    "model1.fit(X, y)\n",
    "\n",
    "# Make prediction\n",
    "print(model1.predict(X_new))"
   ]
  },
  {
   "cell_type": "markdown",
   "id": "30ffe968",
   "metadata": {},
   "source": [
    "# Load and prepare life statisfaction data"
   ]
  },
  {
   "cell_type": "code",
   "execution_count": null,
   "id": "283a1966",
   "metadata": {},
   "outputs": [],
   "source": [
    "oecd_bli = pd.read_csv(datapath+'oecd_bli_2015.csv', thousands=',')\n",
    "oecd_bli = oecd_bli[oecd_bli['INEQUALITY'] == 'TOT']\n",
    "oecd_bli = oecd_bli.pivot(index=\"Country\", columns=\"Indicator\", values=\"Value\")\n",
    "oecd_bli['Life satisfaction'].head()"
   ]
  },
  {
   "cell_type": "markdown",
   "id": "fe30031c",
   "metadata": {},
   "source": [
    "# Load and prepare GDP per capita data"
   ]
  },
  {
   "cell_type": "code",
   "execution_count": null,
   "id": "3f8986e1",
   "metadata": {},
   "outputs": [],
   "source": [
    "gdp_per_capita = pd.read_csv(datapath+'gdp_per_capita.csv', thousands=',', delimiter='\\t', encoding='latin1', na_values='n/a')\n",
    "gdp_per_capita.rename(columns={\"2015\": \"GDP per capita\"}, inplace=True)\n",
    "gdp_per_capita.set_index('Country', inplace=True)\n",
    "\n",
    "full_country_stats = pd.merge(left=oecd_bli, right=gdp_per_capita, left_index=True, right_index=True)"
   ]
  },
  {
   "cell_type": "code",
   "execution_count": null,
   "id": "802d5cf4",
   "metadata": {},
   "outputs": [],
   "source": [
    "full_country_stats[[\"GDP per capita\", 'Life satisfaction']].loc['United States']"
   ]
  },
  {
   "cell_type": "code",
   "execution_count": null,
   "id": "eb07d2b9",
   "metadata": {},
   "outputs": [],
   "source": [
    "remove_indices = [2, 1, 6, 8, 33, 34, 32]\n",
    "keep_indices = list(set(range(36)) - set(remove_indices))\n",
    "\n",
    "sample_data = full_country_stats[[\"GDP per capita\", \"Life satisfaction\"]].iloc[keep_indices]\n",
    "missing_data = full_country_stats[[\"GDP per capita\", 'Life satisfaction']].iloc[remove_indices]"
   ]
  },
  {
   "cell_type": "code",
   "execution_count": null,
   "id": "e0a1a71c",
   "metadata": {},
   "outputs": [],
   "source": [
    "missing_data"
   ]
  },
  {
   "cell_type": "code",
   "execution_count": null,
   "id": "0842472e",
   "metadata": {},
   "outputs": [],
   "source": [
    "sample_data.plot(kind='scatter', x=\"GDP per capita\", y='Life satisfaction', figsize=(5,3))\n",
    "plt.axis([0, 60000, 0, 10])\n",
    "position_text = {\n",
    "    \"Hungary\": (5000, 1),\n",
    "    \"Korea\": (18000, 1.7),\n",
    "    \"France\": (29000, 2.4),\n",
    "    \"Australia\": (40000, 3.0),\n",
    "    \"United States\": (52000, 3.8),\n",
    "}\n",
    "for country, pos_text in position_text.items():\n",
    "    pos_data_x, pos_data_y = sample_data.loc[country]\n",
    "    country = \"U.S.\" if country == \"United States\" else country\n",
    "    plt.annotate(country, xy=(pos_data_x, pos_data_y), xytext=pos_text,\n",
    "            arrowprops=dict(facecolor='black', width=0.5, shrink=0.1, headwidth=5))\n",
    "    plt.plot(pos_data_x, pos_data_y, \"ro\")\n",
    "plt.xlabel(\"GDP per capita (USD)\")\n",
    "# save_fig('money_happy_scatterplot')\n",
    "plt.show()"
   ]
  },
  {
   "cell_type": "code",
   "execution_count": null,
   "id": "a5b1dfff",
   "metadata": {},
   "outputs": [],
   "source": [
    "# save sample data csv\n",
    "sample_data.to_csv(os.path.join('datasets', 'lifesat', 'lifesat.csv'))"
   ]
  },
  {
   "cell_type": "code",
   "execution_count": null,
   "id": "4f8ae550",
   "metadata": {},
   "outputs": [],
   "source": [
    "sample_data.loc[list(position_text.keys())]\n",
    "# position_text.keys()"
   ]
  },
  {
   "cell_type": "code",
   "execution_count": null,
   "id": "c5c57223",
   "metadata": {},
   "outputs": [],
   "source": [
    "# use for smooth range of values for ploting or numerical analysis.\n",
    "# it also can be used from ploting a continuous line\n",
    "# np.linspace(0, 60000, 1000)"
   ]
  },
  {
   "cell_type": "markdown",
   "id": "b5873be4",
   "metadata": {},
   "source": [
    "# Plot line on scattter"
   ]
  },
  {
   "cell_type": "code",
   "execution_count": null,
   "id": "0eadaaf1",
   "metadata": {},
   "outputs": [],
   "source": [
    "\n",
    "sample_data.plot(kind='scatter', x='GDP per capita', y='Life satisfaction', figsize=(5, 3))\n",
    "plt.xlabel('GDP per capita')\n",
    "plt.axis([0, 60000, 0, 10])\n",
    "X = np.linspace(0, 60000, 1000)\n",
    "plt.plot(X, 2*X/100000, 'r')\n",
    "plt.text(40000, 2.7, r\"$\\theta_0 = 0$\", fontsize=14, color='r')\n",
    "plt.text(40000, 1.8, r\"$\\theta_1 = 2 \\times 10^{-5}$\", fontsize=14, color=\"r\")\n",
    "\n",
    "plt.plot(X, 4+(5*X/10**5), 'b')\n",
    "plt.text(8000, 3.5, r\"$\\theta_0 = 4$\", fontsize=14, color='b')\n",
    "plt.text(8000, 2.8, r\"$\\theta_1 = 5 \\times 10^{-5}$\", fontsize=14, color=\"b\")\n",
    "\n",
    "plt.plot(X, 8-(5*X/10**5), 'g')\n",
    "plt.text(6000, 9, r\"$\\theta_0 = 8$\", fontsize=14, color='g')\n",
    "plt.text(6000, 8.3, r\"$\\theta_1 = -5 \\times 10^{-5}$\", fontsize=14, color=\"g\")\n",
    "\n",
    "\n",
    "plt.show()"
   ]
  }
 ],
 "metadata": {
  "kernelspec": {
   "display_name": "env",
   "language": "python",
   "name": "python3"
  },
  "language_info": {
   "codemirror_mode": {
    "name": "ipython",
    "version": 3
   },
   "file_extension": ".py",
   "mimetype": "text/x-python",
   "name": "python",
   "nbconvert_exporter": "python",
   "pygments_lexer": "ipython3",
   "version": "3.12.3"
  }
 },
 "nbformat": 4,
 "nbformat_minor": 5
}
