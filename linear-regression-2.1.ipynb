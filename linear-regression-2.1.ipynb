{
 "cells": [
  {
   "cell_type": "code",
   "execution_count": 3,
   "id": "868555ec",
   "metadata": {},
   "outputs": [],
   "source": [
    "import numpy as np\n",
    "import pandas as pd\n",
    "import matplotlib.pyplot as plt"
   ]
  },
  {
   "cell_type": "code",
   "execution_count": 14,
   "metadata": {},
   "outputs": [
    {
     "name": "stdout",
     "output_type": "stream",
     "text": [
      "      x          y\n",
      "0  24.0  21.549452\n",
      "1  50.0  47.464463\n",
      "2  15.0  17.218656\n",
      "3  38.0  36.586398\n",
      "4  87.0  87.288984\n"
     ]
    }
   ],
   "source": [
    "# get the dataset\n",
    "trainData = pd.read_csv('dataset/linear-regression/train.csv')\n",
    "print(trainData.head(5))\n",
    "featuresX = trainData['x'].to_numpy()\n",
    "y = trainData['y'].to_numpy()\n",
    "m = len(y)"
   ]
  },
  {
   "cell_type": "code",
   "execution_count": 15,
   "metadata": {},
   "outputs": [
    {
     "data": {
      "image/png": "[encoded data removed]",
      "text/plain": [
       "<Figure size 640x480 with 1 Axes>"
      ]
     },
     "metadata": {},
     "output_type": "display_data"
    }
   ],
   "source": [
    "plt.scatter(featuresX, y, marker='.')\n",
    "plt.show()"
   ]
  },
  {
   "cell_type": "markdown",
   "metadata": {},
   "source": [
    "#### Cost function"
   ]
  },
  {
   "cell_type": "code",
   "execution_count": 50,
   "metadata": {},
   "outputs": [
    {
     "name": "stdout",
     "output_type": "stream",
     "text": [
      "[[  349101.314735   23303493.40307746]]\n"
     ]
    }
   ],
   "source": [
    "# theta = np.zeros(shape=(1, 2)).tolist()\n",
    "theta = np.zeros(shape=(1, 2))\n",
    "alpha = 0.01 # learning rate\n",
    "iterations = 10\n",
    "c = 0\n",
    "\n",
    "# add column in X\n",
    "featuresX = featuresX.reshape(m, 1)\n",
    "y = y.reshape(m, 1)\n",
    "# col = np.ones((m, 1))\n",
    "# X = np.hstack((col, featuresX))\n",
    "\n",
    "# hx = theta * featuresX\n",
    "hx = np.dot(featuresX, theta)\n",
    "\n",
    "# shapes\n",
    "# print('*******shapes*******')\n",
    "# print(f'theta: {theta.shape}')\n",
    "# print(f'featuresX: {featuresX.shape}')\n",
    "# print(f'y: {y.shape}')\n",
    "# print(f'hx: {hx.shape}')\n",
    "# print('********************')\n",
    "\n",
    "for i in range(iterations):\n",
    "    yPred = np.multiply(m, featuresX) + c\n",
    "    diff0 = np.subtract(yPred, y)\n",
    "    diff1 = (diff0 * featuresX)\n",
    "\n",
    "    # check nan\n",
    "    diff0_invalid_values = np.isnan(diff0)\n",
    "    diff1_invalid_values = np.isnan(diff1)\n",
    "\n",
    "    if np.any(diff0_invalid_values):\n",
    "        diff0 = diff0[np.logical_not(diff0_invalid_values)]\n",
    "\n",
    "    if np.any(diff1_invalid_values):\n",
    "        diff1 = diff1[np.logical_not(diff1_invalid_values)]\n",
    "\n",
    "    # print(type(diff0))\n",
    "    temp0 = theta[0][0] + (1/m) * np.sum(diff0)\n",
    "    temp1 = theta[0][1] + (1/m) * np.sum(diff1)\n",
    "    theta[0][0] = temp0\n",
    "    theta[0][1] = temp1\n",
    "\n",
    "\n",
    "print(theta)"
   ]
  },
  {
   "cell_type": "markdown",
   "metadata": {},
   "source": [
    "#### Gradient"
   ]
  },
  {
   "cell_type": "code",
   "execution_count": 28,
   "metadata": {},
   "outputs": [
    {
     "data": {
      "text/plain": [
       "1.0"
      ]
     },
     "execution_count": 28,
     "metadata": {},
     "output_type": "execute_result"
    }
   ],
   "source": []
  },
  {
   "cell_type": "code",
   "execution_count": 46,
   "metadata": {},
   "outputs": [
    {
     "data": {
      "text/plain": [
       "24437092.03144985"
      ]
     },
     "execution_count": 46,
     "metadata": {},
     "output_type": "execute_result"
    }
   ],
   "source": []
  },
  {
   "cell_type": "code",
   "execution_count": 9,
   "metadata": {},
   "outputs": [
    {
     "data": {
      "text/plain": [
       "array([2., 4., 6.])"
      ]
     },
     "execution_count": 9,
     "metadata": {},
     "output_type": "execute_result"
    }
   ],
   "source": [
    "import numpy as np\n",
    "\n",
    "a = np.array([1.0, 2.0, 3.0])\n",
    "# b = np.array([2.0, 2.0, 2.0])\n",
    "b = 2.0\n",
    "\n",
    "a*b"
   ]
  },
  {
   "cell_type": "code",
   "execution_count": 19,
   "metadata": {},
   "outputs": [
    {
     "data": {
      "text/plain": [
       "array([[-21.54945196, -21.54945196],\n",
       "       [-47.46446305, -47.46446305],\n",
       "       [-17.21865634, -17.21865634],\n",
       "       ...,\n",
       "       [-88.60376995, -88.60376995],\n",
       "       [-63.64868529, -63.64868529],\n",
       "       [-94.9752655 , -94.9752655 ]])"
      ]
     },
     "execution_count": 19,
     "metadata": {},
     "output_type": "execute_result"
    }
   ],
   "source": []
  }
 ],
 "metadata": {
  "kernelspec": {
   "display_name": "Python 3 (ipykernel)",
   "language": "python",
   "name": "python3"
  },
  "language_info": {
   "codemirror_mode": {
    "name": "ipython",
    "version": 3
   },
   "file_extension": ".py",
   "mimetype": "text/x-python",
   "name": "python",
   "nbconvert_exporter": "python",
   "pygments_lexer": "ipython3",
   "version": "3.9.18"
  }
 },
 "nbformat": 4,
 "nbformat_minor": 5
}
