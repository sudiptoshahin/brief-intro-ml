{
 "cells": [
  {
   "cell_type": "code",
   "execution_count": 33,
   "metadata": {},
   "outputs": [],
   "source": [
    "import torch\n",
    "from torch import nn\n",
    "import cv2\n",
    "import numpy as np\n",
    "import matplotlib.pyplot as plt\n",
    "import os\n",
    "import sklearn\n",
    "from sklearn.datasets import make_circles\n",
    "from sklearn.model_selection import train_test_split\n",
    "import pandas as pd"
   ]
  },
  {
   "cell_type": "markdown",
   "metadata": {},
   "source": [
    "#### Datasets"
   ]
  },
  {
   "cell_type": "code",
   "execution_count": 68,
   "metadata": {},
   "outputs": [],
   "source": [
    "# torch.manual_seed(42)\n",
    "device = 'cuda' if torch.cuda.is_available() else 'cpu'\n",
    "n_samples = 1000\n",
    "X, y = make_circles(n_samples,\n",
    "                    noise=0.03,\n",
    "                    random_state=42)\n",
    "\n",
    "circles = pd.DataFrame({\n",
    "    \"X0\": X[:, 0],\n",
    "    \"X1\": X[:, 1],\n",
    "    \"y\": y\n",
    "})\n",
    "# circles.head(5)\n",
    "\n",
    "# convert to tensor\n",
    "# _X = torch.tensor(torch.from_numpy(X), dtype=torch.float16).clone().detach().requires_grad_(True)\n",
    "_X = torch.from_numpy(X).type(torch.float32)\n",
    "_y = torch.from_numpy(y).type(torch.int32)\n",
    "# _y = torch.tensor(torch.from_numpy(y), dtype=torch.int8).clone().detach()\n",
    "# _y = _y.detach().clone()\n",
    "\n",
    "torch.manual_seed(42)\n",
    "X_train, X_test, y_train, y_test = train_test_split(_X, _y, test_size=0.2, random_state=42)\n"
   ]
  },
  {
   "cell_type": "code",
   "execution_count": 73,
   "metadata": {},
   "outputs": [],
   "source": [
    "#### Make class\n",
    "class CircleModelV0(nn.Module):\n",
    "\n",
    "    def __init__(self):\n",
    "        super().__init__()\n",
    "        self.layer_1 = nn.Linear(in_features=2, out_features=5)\n",
    "        self.layer_2 = nn.Linear(in_features=5, out_features=1)\n",
    "\n",
    "        # self.connected_two_layer = nn.Sequential(\n",
    "        #     nn.Linear(in_features=2, out_features=5),\n",
    "        #     nn.Linear(in_features=5, out_features=1)\n",
    "        # )\n",
    "\n",
    "    \n",
    "    def forward(self, x):\n",
    "        return self.layer_2(self.layer_1(x))\n",
    "        # return self.connected_two_layer\n",
    "    \n"
   ]
  },
  {
   "cell_type": "code",
   "execution_count": 80,
   "metadata": {},
   "outputs": [],
   "source": [
    "model_0 = nn.Sequential(\n",
    "    nn.Linear(in_features=2, out_features=5),\n",
    "    nn.Linear(in_features=5, out_features=1)\n",
    ").to(device=device)\n",
    "\n",
    "# y_preds = model_0(X_test.to(device))\n",
    "# y_preds"
   ]
  },
  {
   "cell_type": "code",
   "execution_count": 81,
   "metadata": {},
   "outputs": [
    {
     "name": "stdout",
     "output_type": "stream",
     "text": [
      "Length of predictions: 200, Shape: torch.Size([200, 1])\n",
      "\n",
      "Length of test samples: 200, Shape: torch.Size([200, 2])\n",
      "\n",
      "First 10 predictions: tensor([[0.5227],\n",
      "        [0.3893],\n",
      "        [0.7006],\n",
      "        [0.4730],\n",
      "        [0.4276],\n",
      "        [0.3482],\n",
      "        [0.1888],\n",
      "        [0.1785],\n",
      "        [0.7119],\n",
      "        [0.3773]], device='cuda:0')\n",
      "\n",
      "First 10 labels: tensor([1, 0, 1, 0, 1, 1, 0, 0, 1, 0], dtype=torch.int32)\n"
     ]
    }
   ],
   "source": [
    "# Instantiate model\n",
    "model_0 = CircleModelV0().to(device)\n",
    "with torch.inference_mode():\n",
    "    untrained_preds = model_0(X_test.to(device))\n",
    "\n",
    "print(f'Length of predictions: {len(untrained_preds)}, Shape: {untrained_preds.shape}')\n",
    "print(f'\\nLength of test samples: {len(X_test)}, Shape: {X_test.shape}')\n",
    "print(f'\\nFirst 10 predictions: {untrained_preds[: 10]}')\n",
    "print(f'\\nFirst 10 labels: {y_test[: 10]}')"
   ]
  },
  {
   "cell_type": "markdown",
   "metadata": {},
   "source": [
    "#### Setup loss function and optimizer\n",
    "1. Which loss function or optimizer should we use? (problem specific)\n",
    "2. For classificaiton we need binary cross entropy or categorical cross entropy"
   ]
  },
  {
   "cell_type": "code",
   "execution_count": null,
   "metadata": {},
   "outputs": [],
   "source": [
    "10.02.17"
   ]
  }
 ],
 "metadata": {
  "kernelspec": {
   "display_name": "base",
   "language": "python",
   "name": "python3"
  },
  "language_info": {
   "codemirror_mode": {
    "name": "ipython",
    "version": 3
   },
   "file_extension": ".py",
   "mimetype": "text/x-python",
   "name": "python",
   "nbconvert_exporter": "python",
   "pygments_lexer": "ipython3",
   "version": "3.11.5"
  }
 },
 "nbformat": 4,
 "nbformat_minor": 2
}
