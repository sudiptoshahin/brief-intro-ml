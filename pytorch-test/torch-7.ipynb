{
 "cells": [
  {
   "cell_type": "code",
   "execution_count": 10,
   "id": "d0c702d3-2c0f-48db-a429-62b15dbf7a1a",
   "metadata": {},
   "outputs": [],
   "source": [
    "import torch\n",
    "import cv2\n",
    "import matplotlib.pyplot as plt"
   ]
  },
  {
   "cell_type": "code",
   "execution_count": 2,
   "id": "41580ff1-2dc9-467c-ae4b-246a67a61bad",
   "metadata": {},
   "outputs": [],
   "source": [
    "test = torch.tensor(\n",
    "    [[5.67000e+02, 5.34000e+02, 5.86000e+02, 5.80000e+02, 8.02546e-01, 0.00000e+00],\n",
    "        [6.22000e+02, 5.50000e+02, 6.39000e+02, 6.02000e+02, 7.26881e-01, 0.00000e+00],\n",
    "        [7.46000e+02, 5.66000e+02, 7.66000e+02, 6.15000e+02, 6.57048e-01, 0.00000e+00],\n",
    "        [1.00000e+03, 5.96000e+02, 1.02200e+03, 6.41000e+02, 6.46933e-01, 0.00000e+00],\n",
    "        [8.34000e+02, 5.60000e+02, 8.51000e+02, 6.09000e+02, 6.11469e-01, 0.00000e+00],\n",
    "        [8.10000e+02, 5.64000e+02, 8.29000e+02, 6.10000e+02, 5.89245e-01, 0.00000e+00],\n",
    "        [8.90000e+02, 6.01000e+02, 9.44000e+02, 6.31000e+02, 5.79737e-01, 3.00000e+00],\n",
    "        [4.87000e+02, 5.02000e+02, 5.08000e+02, 5.48000e+02, 5.62917e-01, 0.00000e+00],\n",
    "        [9.10000e+02, 5.82000e+02, 9.37000e+02, 6.22000e+02, 5.32383e-01, 0.00000e+00],\n",
    "        [7.22000e+02, 5.50000e+02, 7.39000e+02, 5.94000e+02, 5.22836e-01, 0.00000e+00],\n",
    "        [1.07200e+03, 6.20000e+02, 1.10000e+03, 6.75000e+02, 4.93396e-01, 0.00000e+00],\n",
    "        [3.85000e+02, 5.01000e+02, 4.10000e+02, 5.49000e+02, 4.49144e-01, 0.00000e+00],\n",
    "        [2.20000e+02, 4.24000e+02, 2.36000e+02, 4.59000e+02, 4.27559e-01, 0.00000e+00],\n",
    "        [3.46000e+02, 5.01000e+02, 3.65000e+02, 5.54000e+02, 4.10810e-01, 0.00000e+00],\n",
    "        [8.08000e+02, 5.11000e+02, 8.25000e+02, 5.48000e+02, 3.88164e-01, 0.00000e+00],\n",
    "        [7.91000e+02, 5.06000e+02, 8.08000e+02, 5.46000e+02, 3.63889e-01, 0.00000e+00],\n",
    "        [3.81000e+02, 5.02000e+02, 4.00000e+02, 5.48000e+02, 3.58326e-01, 0.00000e+00],\n",
    "        [6.01000e+02, 5.03000e+02, 6.15000e+02, 5.48000e+02, 3.49356e-01, 0.00000e+00],\n",
    "        [1.79000e+02, 4.09000e+02, 2.01000e+02, 4.57000e+02, 3.37607e-01, 0.00000e+00],\n",
    "        [9.73000e+02, 5.48000e+02, 9.87000e+02, 5.94000e+02, 3.27133e-01, 0.00000e+00],\n",
    "        [7.41000e+02, 4.47000e+02, 7.59000e+02, 5.04000e+02, 3.22435e-01, 0.00000e+00],\n",
    "        [8.93000e+02, 5.88000e+02, 9.42000e+02, 6.30000e+02, 3.21814e-01, 0.00000e+00],\n",
    "        [7.11000e+02, 5.38000e+02, 7.27000e+02, 5.92000e+02, 3.05287e-01, 0.00000e+00],\n",
    "        [4.45000e+02, 4.97000e+02, 4.71000e+02, 5.71000e+02, 3.03225e-01, 0.00000e+00],\n",
    "        [5.20000e+01, 4.50000e+02, 9.00000e+01, 4.78000e+02, 2.88899e-01, 2.00000e+00],\n",
    "        [6.31000e+02, 5.05000e+02, 6.50000e+02, 5.50000e+02, 2.78627e-01, 0.00000e+00],\n",
    "        [7.65000e+02, 4.41000e+02, 7.81000e+02, 4.84000e+02, 2.66902e-01, 0.00000e+00],\n",
    "        [7.65000e+02, 4.75000e+02, 7.81000e+02, 5.14000e+02, 2.25897e-01, 0.00000e+00],\n",
    "        [3.17000e+02, 4.88000e+02, 3.31000e+02, 5.23000e+02, 2.24361e-01, 0.00000e+00],\n",
    "        [5.60000e+02, 6.15000e+02, 7.51000e+02, 7.20000e+02, 2.06240e-01, 7.00000e+00],\n",
    "        [7.11000e+02, 4.42000e+02, 7.24000e+02, 4.76000e+02, 1.84007e-01, 0.00000e+00],\n",
    "        [1.00700e+03, 5.51000e+02, 1.03500e+03, 5.85000e+02, 1.74824e-01, 0.00000e+00],\n",
    "        [8.57000e+02, 4.57000e+02, 8.71000e+02, 5.00000e+02, 1.66997e-01, 0.00000e+00],\n",
    "        [2.43000e+02, 4.50000e+02, 2.59000e+02, 4.89000e+02, 1.65325e-01, 0.00000e+00],\n",
    "        [3.29000e+02, 4.84000e+02, 3.46000e+02, 5.30000e+02, 1.52223e-01, 0.00000e+00],\n",
    "        [8.31000e+02, 4.26000e+02, 8.50000e+02, 4.66000e+02, 1.51629e-01, 0.00000e+00],\n",
    "        [6.01000e+02, 5.21000e+02, 6.14000e+02, 5.45000e+02, 1.47263e-01, 0.00000e+00],\n",
    "        [2.81000e+02, 4.63000e+02, 3.01000e+02, 5.27000e+02, 1.40146e-01, 0.00000e+00],\n",
    "        [3.08000e+02, 4.57000e+02, 3.22000e+02, 4.96000e+02, 1.36088e-01, 0.00000e+00],\n",
    "        [9.05000e+02, 5.85000e+02, 9.40000e+02, 6.28000e+02, 1.31244e-01, 3.00000e+00],\n",
    "        [7.41000e+02, 4.38000e+02, 7.55000e+02, 4.84000e+02, 1.26978e-01, 0.00000e+00],\n",
    "        [2.30000e+02, 3.54000e+02, 2.41000e+02, 3.91000e+02, 1.23072e-01, 0.00000e+00],\n",
    "        [3.34000e+02, 4.88000e+02, 3.55000e+02, 5.32000e+02, 1.13274e-01, 0.00000e+00],\n",
    "        [5.63000e+02, 6.13000e+02, 7.26000e+02, 7.20000e+02, 1.10604e-01, 2.00000e+00],\n",
    "        [6.68000e+02, 4.97000e+02, 6.92000e+02, 5.57000e+02, 1.07892e-01, 0.00000e+00],\n",
    "        [1.50000e+02, 3.96000e+02, 1.65000e+02, 4.52000e+02, 1.07419e-01, 0.00000e+00],\n",
    "        [6.80000e+02, 6.60000e+02, 7.69000e+02, 7.20000e+02, 1.02781e-01, 2.00000e+00],\n",
    "        [6.69000e+02, 4.92000e+02, 6.88000e+02, 5.36000e+02, 1.02231e-01, 0.00000e+00],\n",
    "        [7.15000e+02, 3.55000e+02, 7.40000e+02, 3.70000e+02, 9.33862e-02, 2.00000e+00],\n",
    "        [7.52000e+02, 4.39000e+02, 7.81000e+02, 4.93000e+02, 9.13199e-02, 0.00000e+00],\n",
    "        [3.22000e+02, 4.88000e+02, 3.42000e+02, 5.26000e+02, 8.67192e-02, 0.00000e+00],\n",
    "        [6.80000e+02, 6.59000e+02, 7.69000e+02, 7.20000e+02, 8.64944e-02, 7.00000e+00],\n",
    "        [1.07800e+03, 5.36000e+02, 1.09100e+03, 5.68000e+02, 8.60004e-02, 0.00000e+00],\n",
    "        [4.36000e+02, 4.88000e+02, 4.63000e+02, 5.64000e+02, 8.46692e-02, 0.00000e+00],\n",
    "        [9.67000e+02, 4.38000e+02, 9.80000e+02, 4.55000e+02, 8.45100e-02, 0.00000e+00],\n",
    "        [5.61000e+02, 3.04000e+02, 5.82000e+02, 3.24000e+02, 7.81293e-02, 2.00000e+00],\n",
    "        [4.50000e+02, 5.24000e+02, 4.66000e+02, 5.70000e+02, 7.43933e-02, 0.00000e+00],\n",
    "        [1.76000e+02, 4.07000e+02, 1.93000e+02, 4.51000e+02, 7.32578e-02, 0.00000e+00],\n",
    "        [7.43000e+02, 4.75000e+02, 7.58000e+02, 5.07000e+02, 7.17812e-02, 0.00000e+00],\n",
    "        [7.29000e+02, 3.45000e+02, 8.46000e+02, 4.06000e+02, 7.11730e-02, 5.00000e+00],\n",
    "        [4.34000e+02, 4.87000e+02, 4.52000e+02, 5.33000e+02, 6.99623e-02, 0.00000e+00],\n",
    "        [3.42000e+02, 4.89000e+02, 3.60000e+02, 5.42000e+02, 6.55691e-02, 0.00000e+00],\n",
    "        [8.45000e+02, 4.15000e+02, 8.63000e+02, 4.60000e+02, 6.40401e-02, 0.00000e+00],\n",
    "        [4.12000e+02, 4.59000e+02, 4.25000e+02, 5.01000e+02, 6.27021e-02, 0.00000e+00],\n",
    "        [1.77000e+02, 4.07000e+02, 1.90000e+02, 4.31000e+02, 6.02051e-02, 0.00000e+00],\n",
    "        [1.86000e+02, 4.21000e+02, 2.00000e+02, 4.58000e+02, 5.89735e-02, 0.00000e+00],\n",
    "        [3.54000e+02, 5.00000e+02, 3.70000e+02, 5.51000e+02, 5.71363e-02, 0.00000e+00],\n",
    "        [6.17000e+02, 4.97000e+02, 6.30000e+02, 5.17000e+02, 5.64371e-02, 0.00000e+00],\n",
    "        [8.29000e+02, 3.79000e+02, 8.57000e+02, 4.31000e+02, 5.63922e-02, 5.00000e+00],\n",
    "        [7.07000e+02, 5.05000e+02, 7.22000e+02, 5.46000e+02, 5.56079e-02, 0.00000e+00],\n",
    "        [6.16000e+02, 3.59000e+02, 6.51000e+02, 3.78000e+02, 5.54690e-02, 2.00000e+00],\n",
    "        [6.15000e+02, 5.01000e+02, 6.30000e+02, 5.49000e+02, 5.53674e-02, 0.00000e+00],\n",
    "        [9.16000e+02, 5.81000e+02, 9.35000e+02, 6.09000e+02, 5.48335e-02, 0.00000e+00],\n",
    "        [2.77000e+02, 4.58000e+02, 2.97000e+02, 5.10000e+02, 5.34003e-02, 0.00000e+00],\n",
    "        [3.49000e+02, 5.17000e+02, 3.64000e+02, 5.52000e+02, 5.16475e-02, 0.00000e+00],\n",
    "        [7.10000e+02, 5.25000e+02, 7.25000e+02, 5.74000e+02, 5.00915e-02, 0.00000e+00]]\n",
    ")"
   ]
  },
  {
   "cell_type": "code",
   "execution_count": 3,
   "id": "d07a6042-794f-4acf-8e13-6ee968097410",
   "metadata": {},
   "outputs": [
    {
     "data": {
      "text/plain": [
       "torch.Size([76, 6])"
      ]
     },
     "execution_count": 3,
     "metadata": {},
     "output_type": "execute_result"
    }
   ],
   "source": [
    "test.shape"
   ]
  },
  {
   "cell_type": "code",
   "execution_count": 14,
   "id": "1b626b8a-f7ed-4c54-bbb0-b423d8cd9af0",
   "metadata": {},
   "outputs": [
    {
     "data": {
      "text/plain": [
       "<matplotlib.image.AxesImage at 0x7f7da8b6dd50>"
      ]
     },
     "execution_count": 14,
     "metadata": {},
     "output_type": "execute_result"
    },
    {
     "data": {
      "image/png": "[encoded data removed]",
      "text/plain": [
       "<Figure size 640x480 with 1 Axes>"
      ]
     },
     "metadata": {},
     "output_type": "display_data"
    }
   ],
   "source": [
    "# test[:, 0:4]\n",
    "# test[:, 4]\n",
    "# test[:, ]\n",
    "\n",
    "# cv2.imshow(test[:, 0:4])\n",
    "plt.imshow(test[:, 0:4])"
   ]
  }
 ],
 "metadata": {
  "kernelspec": {
   "display_name": "Python 3 (ipykernel)",
   "language": "python",
   "name": "python3"
  },
  "language_info": {
   "codemirror_mode": {
    "name": "ipython",
    "version": 3
   },
   "file_extension": ".py",
   "mimetype": "text/x-python",
   "name": "python",
   "nbconvert_exporter": "python",
   "pygments_lexer": "ipython3",
   "version": "3.11.5"
  }
 },
 "nbformat": 4,
 "nbformat_minor": 5
}
