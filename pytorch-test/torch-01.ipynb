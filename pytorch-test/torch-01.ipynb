{
 "cells": [
  {
   "cell_type": "code",
   "execution_count": 2,
   "metadata": {},
   "outputs": [],
   "source": [
    "import torch\n",
    "import numpy as np\n",
    "import pandas as pd\n",
    "import matplotlib.pyplot as plt\n",
    "# import cv2"
   ]
  },
  {
   "cell_type": "code",
   "execution_count": 3,
   "metadata": {},
   "outputs": [
    {
     "name": "stdout",
     "output_type": "stream",
     "text": [
      "2.1.1+cu121\n"
     ]
    }
   ],
   "source": [
    "print(torch.__version__)"
   ]
  },
  {
   "cell_type": "markdown",
   "metadata": {},
   "source": [
    "#### Tensor\n",
    "\n",
    "Naming convention:\n",
    "* Scalers and verctor in lowercase\n",
    "* and MATRIX and TENSORS should be in uppercase"
   ]
  },
  {
   "cell_type": "code",
   "execution_count": 4,
   "metadata": {},
   "outputs": [
    {
     "name": "stdout",
     "output_type": "stream",
     "text": [
      "0\n",
      "7\n"
     ]
    }
   ],
   "source": [
    "# scaler tensor\n",
    "scaler = torch.tensor(7)\n",
    "print(scaler.ndim)\n",
    "print(scaler.item())"
   ]
  },
  {
   "cell_type": "code",
   "execution_count": 5,
   "metadata": {},
   "outputs": [
    {
     "name": "stdout",
     "output_type": "stream",
     "text": [
      "1\n",
      "torch.Size([2])\n"
     ]
    }
   ],
   "source": [
    "# vector\n",
    "vector = torch.tensor([3, 2])\n",
    "print(vector.ndim)\n",
    "print(vector.shape)"
   ]
  },
  {
   "cell_type": "code",
   "execution_count": 6,
   "metadata": {},
   "outputs": [
    {
     "name": "stdout",
     "output_type": "stream",
     "text": [
      "tensor([[1, 2],\n",
      "        [3, 4]])\n",
      "2\n",
      "torch.Size([2, 2])\n",
      "tensor([[1],\n",
      "        [3]])\n"
     ]
    }
   ],
   "source": [
    "# Matrix\n",
    "\n",
    "MATRIX = torch.tensor([\n",
    "    [1, 2],\n",
    "    [3, 4]\n",
    "])\n",
    "\n",
    "print(MATRIX)\n",
    "print(MATRIX.ndim)\n",
    "print(MATRIX.shape)\n",
    "print(MATRIX[0:, 0:1])"
   ]
  },
  {
   "cell_type": "code",
   "execution_count": 7,
   "metadata": {},
   "outputs": [
    {
     "name": "stdout",
     "output_type": "stream",
     "text": [
      "torch.Size([4, 3, 3])\n"
     ]
    }
   ],
   "source": [
    "# Tensor\n",
    "\n",
    "TENSOR = torch.tensor([[\n",
    "    [1, 2, 3],\n",
    "    [4, 5, 6],\n",
    "    [7, 8, 9]\n",
    "]])\n",
    "\n",
    "# print(TENSOR)\n",
    "# print(TENSOR.ndim)\n",
    "# print(TENSOR.shape) \n",
    "\n",
    "# TENSOR[0:, 0:, 0:1]\n",
    "\n",
    "TENSOR2 = torch.tensor([\n",
    "    [\n",
    "        [1, 2, 2],\n",
    "        [2, 3, 4],\n",
    "        [4, 5, 6]\n",
    "    ],\n",
    "    [\n",
    "        [2, 2, 2],\n",
    "        [3, 3, 3],\n",
    "        [4, 4, 4]\n",
    "    ],\n",
    "    [\n",
    "        [7, 8, 9],\n",
    "        [1, 2, 3],\n",
    "        [10, 11, 12]\n",
    "    ],\n",
    "    [\n",
    "        [3, 2, 1],\n",
    "        [7, 6, 8],\n",
    "        [0, 1, 1]\n",
    "    ]\n",
    "])\n",
    "\n",
    "print(TENSOR2.shape)"
   ]
  },
  {
   "cell_type": "code",
   "execution_count": 8,
   "metadata": {},
   "outputs": [
    {
     "name": "stdout",
     "output_type": "stream",
     "text": [
      "<class 'numpy.ndarray'>\n",
      "<class 'torch.Tensor'>\n"
     ]
    }
   ],
   "source": [
    "# numpy array to tensor\n",
    "\n",
    "np_arr = np.array([\n",
    "    [\n",
    "        [1, 2, 2],\n",
    "        [2, 3, 4],\n",
    "        [4, 5, 6]\n",
    "    ],\n",
    "    [\n",
    "        [2, 2, 2],\n",
    "        [3, 3, 3],\n",
    "        [4, 4, 4]\n",
    "    ],\n",
    "    [\n",
    "        [7, 8, 9],\n",
    "        [1, 2, 3],\n",
    "        [10, 11, 12]\n",
    "    ],\n",
    "    [\n",
    "        [3, 2, 1],\n",
    "        [7, 6, 8],\n",
    "        [0, 1, 1]\n",
    "    ]\n",
    "])\n",
    "\n",
    "tnsr = torch.as_tensor(np_arr)\n",
    "\n",
    "print(type(np_arr))\n",
    "print(type(tnsr))\n",
    "\n",
    "torch.zeros([3, 2])\n",
    "cuda0 = torch.device('cuda:0')\n",
    "cuda_tens = torch.ones([2, 4], dtype=torch.float64, device=cuda0)"
   ]
  },
  {
   "cell_type": "code",
   "execution_count": 9,
   "metadata": {},
   "outputs": [
    {
     "name": "stdout",
     "output_type": "stream",
     "text": [
      "True\n",
      "False\n",
      "device:cuda:-  cuda:0\n",
      "device:cpu:- cpu\n"
     ]
    }
   ],
   "source": [
    "x = torch.tensor([\n",
    "    [1, -1],\n",
    "    [1, 1]\n",
    "], dtype=torch.float16, requires_grad=True)\n",
    "out = x.pow(2).sum()\n",
    "out.backward()\n",
    "x = x.grad\n",
    "# transpose\n",
    "x.T\n",
    "\n",
    "# stored on CPU/GPU\n",
    "print(cuda_tens.is_cuda)\n",
    "print(x.is_cuda)\n",
    "\n",
    "print('device:cuda:- ', cuda_tens.device)\n",
    "print('device:cpu:-', x.device)\n"
   ]
  },
  {
   "cell_type": "markdown",
   "metadata": {},
   "source": [
    "Random tensors\n",
    "\n",
    "Random tensors are important because many neural networks lears is that they starts with tensors full of random numbers and then adjust those random numbers to better represent the data\n",
    "\n",
    "`starts with random numbers => look at data => update random numbers => look at data => update random numbers`"
   ]
  },
  {
   "cell_type": "code",
   "execution_count": 10,
   "metadata": {},
   "outputs": [],
   "source": [
    "random_tensor = torch.rand(3, 2)\n",
    "\n",
    "# create a random tensor with \n",
    "# similar shape to an image tensor\n",
    "# random_image_tensor = torch.rand(size=(224, 224, 3))\n",
    "random_image_tensor = torch.rand(size=(3, 224, 224))\n",
    "\n",
    "# random_image_tensor.shape, random_image_tensor.ndim\n",
    "# random_image_tensor"
   ]
  },
  {
   "cell_type": "code",
   "execution_count": 11,
   "metadata": {},
   "outputs": [
    {
     "data": {
      "text/plain": [
       "torch.float32"
      ]
     },
     "execution_count": 11,
     "metadata": {},
     "output_type": "execute_result"
    }
   ],
   "source": [
    "# zeros and ones\n",
    "zeros = torch.zeros(size=(3, 2))\n",
    "\n",
    "ones = torch.ones(size=(2, 3))\n",
    "ones.dtype"
   ]
  },
  {
   "cell_type": "code",
   "execution_count": 12,
   "metadata": {},
   "outputs": [
    {
     "data": {
      "text/plain": [
       "tensor([0, 0, 0, 0, 0, 0, 0, 0, 0, 0])"
      ]
     },
     "execution_count": 12,
     "metadata": {},
     "output_type": "execute_result"
    }
   ],
   "source": [
    "# creating a range of tensors and tensors-like\n",
    "\n",
    "one_to_ten = torch.arange(start=0, end=100, step=10)\n",
    "\n",
    "# tensors like\n",
    "ten_zeros = torch.zeros_like(input=one_to_ten)\n",
    "ten_zeros"
   ]
  },
  {
   "cell_type": "markdown",
   "metadata": {},
   "source": [
    "#### Tensors dtypes\n",
    "\n",
    "**Note:** Tensor data type is one of 3 big errors we will run into pytorch and deep learning:\n",
    "1. Tensors not right datatype\n",
    "2. tensors not right shape\n",
    "3. tensors not on the right device"
   ]
  },
  {
   "cell_type": "code",
   "execution_count": 13,
   "metadata": {},
   "outputs": [
    {
     "name": "stdout",
     "output_type": "stream",
     "text": [
      "torch.float32\n",
      "torch.float16\n"
     ]
    }
   ],
   "source": [
    "float_32_tensor = torch.tensor(\n",
    "    [3.0, 6.0, 9.0],\n",
    "    dtype=None, # datatype \n",
    "    device=None, # what device is your tensor on\n",
    "    requires_grad=False # weather or not to track gradients with this tensor operations\n",
    ")\n",
    "print(float_32_tensor.dtype)\n",
    "# convert datatype\n",
    "float_16_tensor = float_32_tensor.type(torch.float16)\n",
    "print(float_16_tensor.dtype)\n"
   ]
  },
  {
   "cell_type": "markdown",
   "metadata": {},
   "source": [
    "#### Getting information from tensors\n",
    "### Attributes"
   ]
  },
  {
   "cell_type": "code",
   "execution_count": 14,
   "metadata": {},
   "outputs": [
    {
     "data": {
      "text/plain": [
       "tensor([ 9., 36., 81.])"
      ]
     },
     "execution_count": 14,
     "metadata": {},
     "output_type": "execute_result"
    }
   ],
   "source": [
    "int_32_tensor = torch.tensor([3, 6, 9], dtype=torch.int32)\n",
    "\n",
    "float_32_tensor * int_32_tensor"
   ]
  },
  {
   "cell_type": "markdown",
   "metadata": {},
   "source": [
    "1. Tensors not right datatype -> get datatype => `tensor.dtype`\n",
    "2. tensors not right shape -> get shape => `tensor.shape`\n",
    "3. tensors not on the right device -> get device => `tensor.device`"
   ]
  },
  {
   "cell_type": "code",
   "execution_count": 15,
   "metadata": {},
   "outputs": [
    {
     "name": "stdout",
     "output_type": "stream",
     "text": [
      "tensor([[0.1923, 0.5460, 0.2613, 0.0690],\n",
      "        [0.3582, 0.4253, 0.8554, 0.4674],\n",
      "        [0.0105, 0.8474, 0.5725, 0.3537]])\n",
      "Datatype: torch.float32\n",
      "Shape: torch.Size([3, 4])\n",
      "Device: cpu\n"
     ]
    }
   ],
   "source": [
    "some_tensor = torch.rand(size=(3, 4))\n",
    "print(some_tensor)\n",
    "\n",
    "print(f'Datatype: {some_tensor.dtype}')\n",
    "print(f'Shape: {some_tensor.shape}')\n",
    "print(f'Device: {some_tensor.device}')"
   ]
  },
  {
   "cell_type": "markdown",
   "metadata": {},
   "source": [
    "#### Manipulating / Operations\n",
    "* Addition\n",
    "* Subtraction\n",
    "* Multiplication ( element-wise )\n",
    "* Division\n",
    "* Matrix multiplication\n"
   ]
  },
  {
   "cell_type": "code",
   "execution_count": 16,
   "metadata": {},
   "outputs": [
    {
     "data": {
      "text/plain": [
       "tensor([7.3549, 0.6682, 8.7464, 2.8392, 7.6221, 8.9171, 6.9065, 7.4658, 2.0944,\n",
       "        7.9536, 2.8469, 9.3514, 0.7830, 0.0850, 0.4527, 3.1551, 1.0490, 3.2875,\n",
       "        3.6747, 3.6624, 3.1205, 2.8625, 4.5985, 2.0499, 7.9096, 1.1088, 6.0823,\n",
       "        3.3671, 3.4450, 4.4622, 3.5299, 7.6801, 2.6881, 2.3121, 4.7407, 6.3635,\n",
       "        3.7940, 2.4353, 6.0776, 4.4257, 9.5552, 5.8736, 3.4084, 3.5748, 8.6090,\n",
       "        7.6266, 5.3818, 2.3725, 5.2328, 7.7907, 0.5093, 9.4815, 5.9960, 7.0213,\n",
       "        4.8803, 1.2913, 4.9065, 2.5052, 6.6224, 0.2779, 4.5878, 2.5822, 6.0590,\n",
       "        4.6002, 4.7564, 5.7544, 2.2262, 7.3875, 7.8516, 5.7462, 8.1783, 0.1483,\n",
       "        9.1482, 3.2953, 0.4759, 6.9969, 1.2803, 4.7731, 5.9085, 3.1990, 1.6848,\n",
       "        5.2371, 0.9504, 7.4589, 0.7487, 3.6532, 0.7607, 5.1274, 4.4371, 9.6762,\n",
       "        3.6466, 8.8887, 5.6142, 9.7533, 6.2532, 7.5173, 5.0662, 2.0869, 8.0539,\n",
       "        7.0805])"
      ]
     },
     "execution_count": 16,
     "metadata": {},
     "output_type": "execute_result"
    }
   ],
   "source": [
    "# tnsr = torch.tensor([1, 2, 3])\n",
    "\n",
    "tnsr = torch.rand(100)\n",
    "add_tnsr = tnsr + 10\n",
    "\n",
    "mul_tnsr = tnsr * 10\n",
    "\n",
    "sub_tnsr = tnsr - 10\n",
    "\n",
    "# built-in function\n",
    "torch.mul(tnsr, 10)"
   ]
  },
  {
   "cell_type": "markdown",
   "metadata": {},
   "source": [
    "#### Matrix multiplication\n",
    "\n",
    "1. element-wise multiplication\n",
    "2. matrix multiplication (dot product)"
   ]
  },
  {
   "cell_type": "code",
   "execution_count": 17,
   "metadata": {},
   "outputs": [
    {
     "name": "stdout",
     "output_type": "stream",
     "text": [
      "tensor([0.7355, 0.0668, 0.8746, 0.2839, 0.7622, 0.8917, 0.6906, 0.7466, 0.2094,\n",
      "        0.7954, 0.2847, 0.9351, 0.0783, 0.0085, 0.0453, 0.3155, 0.1049, 0.3288,\n",
      "        0.3675, 0.3662, 0.3121, 0.2863, 0.4599, 0.2050, 0.7910, 0.1109, 0.6082,\n",
      "        0.3367, 0.3445, 0.4462, 0.3530, 0.7680, 0.2688, 0.2312, 0.4741, 0.6363,\n",
      "        0.3794, 0.2435, 0.6078, 0.4426, 0.9555, 0.5874, 0.3408, 0.3575, 0.8609,\n",
      "        0.7627, 0.5382, 0.2372, 0.5233, 0.7791, 0.0509, 0.9482, 0.5996, 0.7021,\n",
      "        0.4880, 0.1291, 0.4907, 0.2505, 0.6622, 0.0278, 0.4588, 0.2582, 0.6059,\n",
      "        0.4600, 0.4756, 0.5754, 0.2226, 0.7388, 0.7852, 0.5746, 0.8178, 0.0148,\n",
      "        0.9148, 0.3295, 0.0476, 0.6997, 0.1280, 0.4773, 0.5909, 0.3199, 0.1685,\n",
      "        0.5237, 0.0950, 0.7459, 0.0749, 0.3653, 0.0761, 0.5127, 0.4437, 0.9676,\n",
      "        0.3647, 0.8889, 0.5614, 0.9753, 0.6253, 0.7517, 0.5066, 0.2087, 0.8054,\n",
      "        0.7081]) * tensor([0.7355, 0.0668, 0.8746, 0.2839, 0.7622, 0.8917, 0.6906, 0.7466, 0.2094,\n",
      "        0.7954, 0.2847, 0.9351, 0.0783, 0.0085, 0.0453, 0.3155, 0.1049, 0.3288,\n",
      "        0.3675, 0.3662, 0.3121, 0.2863, 0.4599, 0.2050, 0.7910, 0.1109, 0.6082,\n",
      "        0.3367, 0.3445, 0.4462, 0.3530, 0.7680, 0.2688, 0.2312, 0.4741, 0.6363,\n",
      "        0.3794, 0.2435, 0.6078, 0.4426, 0.9555, 0.5874, 0.3408, 0.3575, 0.8609,\n",
      "        0.7627, 0.5382, 0.2372, 0.5233, 0.7791, 0.0509, 0.9482, 0.5996, 0.7021,\n",
      "        0.4880, 0.1291, 0.4907, 0.2505, 0.6622, 0.0278, 0.4588, 0.2582, 0.6059,\n",
      "        0.4600, 0.4756, 0.5754, 0.2226, 0.7388, 0.7852, 0.5746, 0.8178, 0.0148,\n",
      "        0.9148, 0.3295, 0.0476, 0.6997, 0.1280, 0.4773, 0.5909, 0.3199, 0.1685,\n",
      "        0.5237, 0.0950, 0.7459, 0.0749, 0.3653, 0.0761, 0.5127, 0.4437, 0.9676,\n",
      "        0.3647, 0.8889, 0.5614, 0.9753, 0.6253, 0.7517, 0.5066, 0.2087, 0.8054,\n",
      "        0.7081])\n",
      "equals: tensor([5.4094e-01, 4.4654e-03, 7.6500e-01, 8.0608e-02, 5.8096e-01, 7.9514e-01,\n",
      "        4.7700e-01, 5.5739e-01, 4.3864e-02, 6.3260e-01, 8.1047e-02, 8.7449e-01,\n",
      "        6.1314e-03, 7.2191e-05, 2.0493e-03, 9.9548e-02, 1.1005e-02, 1.0808e-01,\n",
      "        1.3503e-01, 1.3413e-01, 9.7376e-02, 8.1940e-02, 2.1146e-01, 4.2022e-02,\n",
      "        6.2562e-01, 1.2295e-02, 3.6994e-01, 1.1337e-01, 1.1868e-01, 1.9911e-01,\n",
      "        1.2460e-01, 5.8984e-01, 7.2261e-02, 5.3458e-02, 2.2475e-01, 4.0494e-01,\n",
      "        1.4394e-01, 5.9309e-02, 3.6937e-01, 1.9586e-01, 9.1302e-01, 3.4499e-01,\n",
      "        1.1617e-01, 1.2779e-01, 7.4115e-01, 5.8165e-01, 2.8964e-01, 5.6286e-02,\n",
      "        2.7382e-01, 6.0694e-01, 2.5937e-03, 8.9900e-01, 3.5952e-01, 4.9299e-01,\n",
      "        2.3817e-01, 1.6675e-02, 2.4074e-01, 6.2758e-02, 4.3856e-01, 7.7229e-04,\n",
      "        2.1048e-01, 6.6680e-02, 3.6712e-01, 2.1162e-01, 2.2624e-01, 3.3113e-01,\n",
      "        4.9560e-02, 5.4575e-01, 6.1647e-01, 3.3019e-01, 6.6884e-01, 2.1991e-04,\n",
      "        8.3690e-01, 1.0859e-01, 2.2649e-03, 4.8956e-01, 1.6391e-02, 2.2783e-01,\n",
      "        3.4910e-01, 1.0233e-01, 2.8384e-02, 2.7427e-01, 9.0317e-03, 5.5635e-01,\n",
      "        5.6059e-03, 1.3346e-01, 5.7863e-03, 2.6291e-01, 1.9688e-01, 9.3629e-01,\n",
      "        1.3298e-01, 7.9008e-01, 3.1520e-01, 9.5128e-01, 3.9103e-01, 5.6510e-01,\n",
      "        2.5666e-01, 4.3551e-02, 6.4865e-01, 5.0134e-01])\n"
     ]
    },
    {
     "data": {
      "text/plain": [
       "tensor(29.6050)"
      ]
     },
     "execution_count": 17,
     "metadata": {},
     "output_type": "execute_result"
    }
   ],
   "source": [
    "print(tnsr ,'*', tnsr)\n",
    "print(f'equals: {tnsr*tnsr}')\n",
    "\n",
    "# matrix multiplication\n",
    "torch.matmul(tnsr, tnsr)"
   ]
  },
  {
   "cell_type": "code",
   "execution_count": 18,
   "metadata": {},
   "outputs": [
    {
     "name": "stdout",
     "output_type": "stream",
     "text": [
      "tensor(29.6050)\n",
      "2.992391586303711'ms\n",
      "tensor(29.6050)\n",
      "0.9973049163818359'ms\n"
     ]
    }
   ],
   "source": [
    "import time\n",
    "st = time.time()\n",
    "val = 0\n",
    "for i in range(len(tnsr)):\n",
    "    val += tnsr[i] * tnsr[i]\n",
    "\n",
    "print(val)\n",
    "print(f'{round(((time.time() - st) * 10**3), 500)}\\'ms')\n",
    "\n",
    "st = time.time()\n",
    "\n",
    "mat_mul = torch.matmul(tnsr, tnsr)\n",
    "print(mat_mul)\n",
    "\n",
    "print(f'{round(((time.time() - st) * 10**3), 500)}\\'ms')"
   ]
  },
  {
   "cell_type": "code",
   "execution_count": 19,
   "metadata": {},
   "outputs": [
    {
     "name": "stdout",
     "output_type": "stream",
     "text": [
      "tensor(29.6050)\n",
      "0.9984970092773438'ms\n"
     ]
    }
   ],
   "source": [
    "import time\n",
    "\n",
    "st = time.time()\n",
    "\n",
    "mat_mul = torch.matmul(tnsr, tnsr)\n",
    "print(mat_mul)\n",
    "\n",
    "print(f'{round(((time.time() - st) * 10**3), 120)}\\'ms')"
   ]
  },
  {
   "cell_type": "code",
   "execution_count": 20,
   "metadata": {},
   "outputs": [
    {
     "name": "stdout",
     "output_type": "stream",
     "text": [
      "torch.Size([30, 32])\n"
     ]
    }
   ],
   "source": [
    "A = torch.rand(size=(30, 5)) # A's column\n",
    "B = torch.rand(size=(5, 32)) # b's row must be same\n",
    "\n",
    "matrix_mul = torch.matmul(A, B)\n",
    "print(matrix_mul.shape)"
   ]
  },
  {
   "cell_type": "code",
   "execution_count": 27,
   "metadata": {},
   "outputs": [
    {
     "name": "stdout",
     "output_type": "stream",
     "text": [
      " torch.Size([7, 80]) \n",
      "\t\tx\n",
      " torch.Size([80, 3]) \n",
      "-----------------------------------\n",
      " result will be in\n",
      " torch.Size([7, 3]) shape\n"
     ]
    }
   ],
   "source": [
    "A = torch.rand(size=(7, 80))\n",
    "B = torch.rand(size=(80, 3))\n",
    "\n",
    "# print(f' {A.shape} \\n\\t\\tx\\n {B.shape} \\n-----------------------------------\\n {torch.matmul(A, B).shape}')\n",
    "\n",
    "# check shape\n",
    "def check_and_print(A, B):\n",
    "    if len(A.shape) != 2 or len(B.shape) != 2:\n",
    "        print('Please enter matrix....')\n",
    "        exit(1)\n",
    "    else:\n",
    "        # if A.shape[1] != B.shape[0]:\n",
    "        #     print('Please enter a VALID matrix....1')\n",
    "        #     quit()\n",
    "        # mat_mul = torch.matmul(A, B)\n",
    "        try:\n",
    "            mat_mul = torch.matmul(A, B)\n",
    "            print(f' {A.shape} \\n\\t\\tx\\n {B.shape} \\n-----------------------------------\\n result will be in\\n {mat_mul.shape} shape')\n",
    "        except RuntimeError:\n",
    "            # quit()\n",
    "            print('Please enter a VALID matrix....2')\n",
    "\n",
    "check_and_print(A, B)\n"
   ]
  },
  {
   "cell_type": "code",
   "execution_count": 46,
   "metadata": {},
   "outputs": [
    {
     "data": {
      "text/plain": [
       "torch.Size([50, 20])"
      ]
     },
     "execution_count": 46,
     "metadata": {},
     "output_type": "execute_result"
    }
   ],
   "source": [
    "A = torch.rand(size=(50, 2), dtype=torch.float32)\n",
    "B = torch.rand(size=(20, 2), dtype=torch.float32)\n",
    "\n",
    "# torch.matmul(A, B).shape\n",
    "# matrix multiplication will work when tensor_B is TRANSPOSED\n",
    "torch.matmul(A, B.T).shape"
   ]
  }
 ],
 "metadata": {
  "kernelspec": {
   "display_name": "Python 3 (ipykernel)",
   "language": "python",
   "name": "python3"
  },
  "language_info": {
   "codemirror_mode": {
    "name": "ipython",
    "version": 3
   },
   "file_extension": ".py",
   "mimetype": "text/x-python",
   "name": "python",
   "nbconvert_exporter": "python",
   "pygments_lexer": "ipython3",
   "version": "3.11.5"
  }
 },
 "nbformat": 4,
 "nbformat_minor": 2
}
